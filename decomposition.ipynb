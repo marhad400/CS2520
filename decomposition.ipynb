{
 "cells": [
  {
   "attachments": {},
   "cell_type": "markdown",
   "metadata": {},
   "source": [
    "# Decomposition\n",
    "## Design\n",
    "- Functions\n",
    "- Objects\n",
    "- Modules\n",
    "## Structural Programming - E.W. Dijkstra, Nicolas Wirth\n"
   ]
  },
  {
   "cell_type": "markdown",
   "metadata": {},
   "source": []
  }
 ],
 "metadata": {
  "language_info": {
   "name": "python"
  },
  "orig_nbformat": 4
 },
 "nbformat": 4,
 "nbformat_minor": 2
}
