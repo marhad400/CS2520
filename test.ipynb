{
 "cells": [
  {
   "cell_type": "code",
   "execution_count": 1,
   "id": "094cc42e",
   "metadata": {},
   "outputs": [
    {
     "name": "stdout",
     "output_type": "stream",
     "text": [
      "Testing new Jupyter Notebook - Mark Haddad\n"
     ]
    }
   ],
   "source": [
    "print(\"Testing new Jupyter Notebook - Mark Haddad\")"
   ]
  },
  {
   "cell_type": "code",
   "execution_count": 14,
   "id": "8d3ef5e7",
   "metadata": {},
   "outputs": [
    {
     "name": "stdout",
     "output_type": "stream",
     "text": [
      "15\n"
     ]
    }
   ],
   "source": [
    "list = [1,2,3,4,5]\n",
    "sum = 0\n",
    "for i in range(len(list)):\n",
    "\tsum = sum + list[i]\n",
    "print(sum)"
   ]
  },
  {
   "attachments": {},
   "cell_type": "markdown",
   "id": "09221d5d",
   "metadata": {},
   "source": [
    "Hello there, my friend. Here I will show you how to find the square root of any number with Python.\n",
    "The exponent operator is expressed as a**b, in which this is a to the power of b. To find the square root of a number, you can exponentiate it by 1/2, or 0.5.\n",
    "So there square root of 25 would be"
   ]
  },
  {
   "cell_type": "code",
   "execution_count": 15,
   "id": "50b20f25",
   "metadata": {},
   "outputs": [
    {
     "name": "stdout",
     "output_type": "stream",
     "text": [
      "5.0\n"
     ]
    }
   ],
   "source": [
    "print(25**0.5)"
   ]
  }
 ],
 "metadata": {
  "kernelspec": {
   "display_name": "Python 3",
   "language": "python",
   "name": "python3"
  },
  "language_info": {
   "codemirror_mode": {
    "name": "ipython",
    "version": 3
   },
   "file_extension": ".py",
   "mimetype": "text/x-python",
   "name": "python",
   "nbconvert_exporter": "python",
   "pygments_lexer": "ipython3",
   "version": "3.9.13 (main, Aug 25 2022, 18:29:29) \n[Clang 12.0.0 ]"
  },
  "vscode": {
   "interpreter": {
    "hash": "5e2c3a95197615e0f03f2cb0b412ba0410d0dc2251f9ffa66ba54e74ad00933f"
   }
  }
 },
 "nbformat": 4,
 "nbformat_minor": 5
}
