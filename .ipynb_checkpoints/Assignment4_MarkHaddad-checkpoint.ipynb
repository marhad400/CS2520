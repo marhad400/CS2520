{
 "cells": [
  {
   "cell_type": "markdown",
   "metadata": {},
   "source": [
    "# Homework 4\n",
    "\n",
    "**Due on Thursday, March 7, 11.59pm**\n",
    "\n",
    "Your submission will be a pdf of your Jupyter notebook which would have already ran"
   ]
  },
  {
   "cell_type": "code",
   "execution_count": 1,
   "metadata": {},
   "outputs": [
    {
     "name": "stdout",
     "output_type": "stream",
     "text": [
      "You look wonderful today. The sky is blue and the sun is shining. I look at you. Look at these trees. There are birds and butterflies here.\n"
     ]
    }
   ],
   "source": [
    "text = \"You look wonderful today. The sky is blue and the sun is shining. I look at you. Look at these trees. There are birds and butterflies here.\"\n",
    "print(text)"
   ]
  },
  {
   "cell_type": "markdown",
   "metadata": {},
   "source": [
    "_Step 2._ Create a list of words and punctuations (separately!) of `text`.\n",
    "\n",
    "    Expected output: ['you', 'look', 'wonderful', 'today', '.', 'the', 'sky', 'is', 'blue', 'and', 'the', \n",
    "                      'sun', 'is', 'shining', '.', 'i', 'look', 'at', 'you', '.', 'look', 'at', 'these', \n",
    "                      'trees', '.', 'there', 'are', 'birds', 'and', 'butterflies', 'here', '.']"
   ]
  },
  {
   "cell_type": "code",
   "execution_count": 2,
   "metadata": {},
   "outputs": [
    {
     "name": "stdout",
     "output_type": "stream",
     "text": [
      "['you', 'look', 'wonderful', 'today', '.', 'the', 'sky', 'is', 'blue', 'and', 'the', 'sun', 'is', 'shining', '.', 'i', 'look', 'at', 'you', '.', 'look', 'at', 'these', 'trees', '.', 'there', 'are', 'birds', 'and', 'butterflies', 'here', '.']\n"
     ]
    }
   ],
   "source": [
    "words = []\n",
    "for word in text.split():\n",
    "\twords.append(word.strip(\".,\").lower())\n",
    "\tif word.strip().endswith((\".\", \",\")):\n",
    "\t\twords.append(word.strip()[-1])\n",
    "print(words)"
   ]
  },
  {
   "cell_type": "markdown",
   "metadata": {},
   "source": [
    "_Step 3._ Based on the previous output, create a list of bigrams of that text.\n",
    "\n",
    "    Expected output: [['you', 'look'], ['look', 'wonderful'], ['wonderful', 'today'], ['today', '.'], \n",
    "                      ['.', 'the'], ['the', 'sky'], ['sky', 'is'], ['is', 'blue'], ['blue', 'and'],\n",
    "                      ['and', 'the'], ['the', 'sun'], ['sun', 'is'], ['is', 'shining'], ['shining', '.'], \n",
    "                      ['.', 'i'], ['i', 'look'], ['look', 'at'], ['at', 'you'], ['you', '.'], ['.', 'look'], \n",
    "                      ['at', 'these'], ['these', 'trees'], ['trees', '.'], ['.', 'there'], ['there', 'are'], \n",
    "                      ['are', 'birds'], ['birds', 'and'], ['and', 'butterflies'], ['butterflies', 'here'], \n",
    "                      ['here', '.']]"
   ]
  },
  {
   "cell_type": "code",
   "execution_count": 3,
   "metadata": {},
   "outputs": [
    {
     "data": {
      "text/plain": [
       "[['you', 'look'],\n",
       " ['look', 'wonderful'],\n",
       " ['wonderful', 'today'],\n",
       " ['today', '.'],\n",
       " ['.', 'the'],\n",
       " ['the', 'sky'],\n",
       " ['sky', 'is'],\n",
       " ['is', 'blue'],\n",
       " ['blue', 'and'],\n",
       " ['and', 'the'],\n",
       " ['the', 'sun'],\n",
       " ['sun', 'is'],\n",
       " ['is', 'shining'],\n",
       " ['shining', '.'],\n",
       " ['.', 'i'],\n",
       " ['i', 'look'],\n",
       " ['look', 'at'],\n",
       " ['at', 'you'],\n",
       " ['you', '.'],\n",
       " ['.', 'look'],\n",
       " ['look', 'at'],\n",
       " ['at', 'these'],\n",
       " ['these', 'trees'],\n",
       " ['trees', '.'],\n",
       " ['.', 'there'],\n",
       " ['there', 'are'],\n",
       " ['are', 'birds'],\n",
       " ['birds', 'and'],\n",
       " ['and', 'butterflies'],\n",
       " ['butterflies', 'here'],\n",
       " ['here', '.']]"
      ]
     },
     "execution_count": 3,
     "metadata": {},
     "output_type": "execute_result"
    }
   ],
   "source": [
    "bigrams = [[words[i], words[i + 1]] for i in range(len(words) - 1)]\n",
    "bigrams"
   ]
  },
  {
   "cell_type": "markdown",
   "metadata": {},
   "source": [
    "_Step 4._ A function `choice` from the package `random` takes a non-empty list as input and returns a random item from this list as the output"
   ]
  },
  {
   "cell_type": "code",
   "execution_count": 4,
   "metadata": {},
   "outputs": [
    {
     "data": {
      "text/plain": [
       "'C'"
      ]
     },
     "execution_count": 4,
     "metadata": {},
     "output_type": "execute_result"
    }
   ],
   "source": [
    "from random import choice\n",
    "\n",
    "choice([\"A\", \"B\", \"C\"])"
   ]
  },
  {
   "cell_type": "markdown",
   "metadata": {},
   "source": [
    "Let us then pick a random bigram as the beginning of the sentence, and then keep adding words to that sentence depending on its last word. The sentence is finished if we encountered `.`."
   ]
  },
  {
   "cell_type": "code",
   "execution_count": 10,
   "metadata": {},
   "outputs": [
    {
     "name": "stdout",
     "output_type": "stream",
     "text": [
      "the sun and the you look i look birds and these trees look at here . \n",
      "['you', 'look', 'wonderful', 'today', '.', 'the', 'sky', 'is', 'blue', 'and', 'the', 'sun', 'is', 'shining', '.', 'i', 'look', 'at', 'you', '.', 'look', 'at', 'these', 'trees', '.', 'there', 'are', 'birds', 'and', 'butterflies', 'here', '.']\n"
     ]
    }
   ],
   "source": [
    "sentence = \"\"\n",
    "word = \"\"\n",
    "\n",
    "while \".\" not in word:\n",
    "\tword = choice(bigrams)\n",
    "\tsentence += word[0] + \" \" + word[1] + \" \"\n",
    "print(sentence)\n",
    "print(words)"
   ]
  },
  {
   "cell_type": "markdown",
   "metadata": {},
   "source": [
    "**Question:** will there be any difference in the \"quality\" of the generated sentences if we use the same code, but _keep duplicate bigrams?_\n",
    "\n",
    "**Extension:** modify the code above above so that it's not a _bigram_ based sentence generator, but rather an _n-gram_ based."
   ]
  },
  {
   "cell_type": "code",
   "execution_count": 12,
   "metadata": {},
   "outputs": [
    {
     "name": "stdout",
     "output_type": "stream",
     "text": [
      "3\n",
      "you look wonderful look wonderful today these trees . \n",
      "['you', 'look', 'wonderful', 'today', '.', 'the', 'sky', 'is', 'blue', 'and', 'the', 'sun', 'is', 'shining', '.', 'i', 'look', 'at', 'you', '.', 'look', 'at', 'these', 'trees', '.', 'there', 'are', 'birds', 'and', 'butterflies', 'here', '.']\n"
     ]
    }
   ],
   "source": [
    "n = int(input())\n",
    "ngrams = []\n",
    "\n",
    "for i in range(len(words) - n + 1):\n",
    "    ngram = [words[i + j] for j in range(n)]\n",
    "    ngrams.append(ngram)\n",
    "\n",
    "sentence = \"\"\n",
    "word = \"\"\n",
    "\n",
    "while \".\" not in word:\n",
    "\tword = choice(ngrams)\n",
    "\tfor j in range(n):\n",
    "              sentence += word[j] + \" \"\n",
    "print(sentence)\n",
    "print(words)"
   ]
  },
  {
   "cell_type": "markdown",
   "metadata": {},
   "source": [
    "**Problem 2.** To get a random integer from some interval, we can use the `randint` function from the package `random`. To test how it works, run the following cell several times."
   ]
  },
  {
   "cell_type": "code",
   "execution_count": 16,
   "metadata": {},
   "outputs": [
    {
     "data": {
      "text/plain": [
       "7"
      ]
     },
     "execution_count": 16,
     "metadata": {},
     "output_type": "execute_result"
    }
   ],
   "source": [
    "import random\n",
    "random.randint(4, 8)"
   ]
  },
  {
   "cell_type": "markdown",
   "metadata": {},
   "source": [
    "Your task: Ask the user for an integer from $1$ to $10$. Write code that will keep guessing the number that the user had in mind, stop when the guessed number is the same as the number provided by the user. Your output should look somehow like this:\n",
    "\n",
    "    Give me a number from 1 to 10: 9\n",
    "    Is 10 the number?\n",
    "    No...\n",
    "    Is 10 the number?\n",
    "    No...\n",
    "    Is 7 the number?\n",
    "    No...\n",
    "    Is 10 the number?\n",
    "    No...\n",
    "    Is 6 the number?\n",
    "    No...\n",
    "    Is 9 the number?\n",
    "    Cool, 9 is the number!"
   ]
  },
  {
   "cell_type": "code",
   "execution_count": 17,
   "metadata": {},
   "outputs": [
    {
     "name": "stdout",
     "output_type": "stream",
     "text": [
      "Enter a number from 1 to 10: 7\n",
      "Is 2 the number?\n",
      "No...\n",
      "Is 5 the number?\n",
      "No...\n",
      "Is 3 the number?\n",
      "No...\n",
      "Is 6 the number?\n",
      "No...\n",
      "Is 5 the number?\n",
      "No...\n",
      "Is 2 the number?\n",
      "No...\n",
      "Is 4 the number?\n",
      "No...\n",
      "Is 6 the number?\n",
      "No...\n",
      "Is 2 the number?\n",
      "No...\n",
      "Is 8 the number?\n",
      "No...\n",
      "Is 8 the number?\n",
      "No...\n",
      "Is 1 the number?\n",
      "No...\n",
      "Is 4 the number?\n",
      "No...\n",
      "Is 3 the number?\n",
      "No...\n",
      "Is 3 the number?\n",
      "No...\n",
      "Is 7 the number?\n",
      "Cool, 7 is the number!\n"
     ]
    }
   ],
   "source": [
    "#Write you code here\n",
    "number = int(input(\"Enter a number from 1 to 10: \"))\n",
    "guess = random.randint(1, 10)\n",
    "while guess != number:\n",
    "    print(\"Is \" + str(guess) + \" the number?\")\n",
    "    print(\"No...\")\n",
    "    guess = random.randint(1, 10)\n",
    "if guess == number:\n",
    "    print(\"Is \" + str(guess) + \" the number?\")\n",
    "    print(\"Cool, \" + str(guess) + \" is the number!\")\n"
   ]
  },
  {
   "cell_type": "markdown",
   "metadata": {},
   "source": [
    "#### `all` and `any`\n",
    "\n",
    "For the next exercise you might find useful the unctions `all` and `any`.\n",
    "\n",
    "`all` takes a list of booleans as input and returns True if all those booleans are True. Intuitively, you can think of `all` as the operator that puts `and` in-between all those booleans and evaluates the result."
   ]
  },
  {
   "cell_type": "code",
   "execution_count": 18,
   "metadata": {},
   "outputs": [
    {
     "name": "stdout",
     "output_type": "stream",
     "text": [
      "[True, True, True]    -> True\n",
      "[True, False, True]   -> False\n",
      "[False, False, False] -> False\n"
     ]
    }
   ],
   "source": [
    "print([True, True, True], \"   ->\", all([True, True, True]))\n",
    "print([True, False, True], \"  ->\", all([True, False, True]))\n",
    "print([False, False, False], \"->\", all([False, False, False]))"
   ]
  },
  {
   "cell_type": "markdown",
   "metadata": {},
   "source": [
    "`any` takes a list of booleans as input and returns True if at least one of those booleans is True. Intuitively, you can think of `any` as the operator that puts `or` in-between all those booleans and evaluates the result."
   ]
  },
  {
   "cell_type": "code",
   "execution_count": 19,
   "metadata": {},
   "outputs": [
    {
     "name": "stdout",
     "output_type": "stream",
     "text": [
      "[True, True, True]    -> True\n",
      "[True, False, True]   -> True\n",
      "[False, False, False] -> False\n"
     ]
    }
   ],
   "source": [
    "print([True, True, True], \"   ->\", any([True, True, True]))\n",
    "print([True, False, True], \"  ->\", any([True, False, True]))\n",
    "print([False, False, False], \"->\", any([False, False, False]))"
   ]
  },
  {
   "cell_type": "markdown",
   "metadata": {},
   "source": [
    "**Problem 3.** The task of this exercise is to evaluate strings from the Fake Turkish language and tell if the harmony rule is violated or not.\n",
    "\n",
    "In Fake Turkish, vowels can be front or back."
   ]
  },
  {
   "cell_type": "code",
   "execution_count": 20,
   "metadata": {},
   "outputs": [],
   "source": [
    "front = [\"e\", \"i\", \"ö\", \"ü\"]\n",
    "back = [\"a\", \"ı\", \"o\", \"u\"]"
   ]
  },
  {
   "cell_type": "markdown",
   "metadata": {},
   "source": [
    "Within the same word, all vowels must be either all front or all back.\n",
    "\n",
    "    nekilüm -> good\n",
    "    almırdum -> good\n",
    "    özkanım -> bad\n",
    "    \n",
    "You are given the following list of Fake Turkish words."
   ]
  },
  {
   "cell_type": "code",
   "execution_count": 21,
   "metadata": {},
   "outputs": [],
   "source": [
    "fake_turkish = [\"nekilüm\", \"almırdum\", \"özkanım\", \"karokum\", \"almalar\", \"dökulön\"]"
   ]
  },
  {
   "cell_type": "markdown",
   "metadata": {},
   "source": [
    "Write a code that scans the `fake_turkish` list, and generates a dictionary where each key is a word in the list, and each value is True or False depending on whether the word follows the harmony rule or not.\n",
    "\n",
    "    Expected output:\n",
    "    {'nekilüm': True, 'almırdum': True, 'özkanım': False, 'karokum': True, 'almalar': True, 'dökulön': False}\n",
    "    \n",
    "Remember: Your code must be generalizable beyond this specific example! I.e. I might test it on a different list of words and it should still work!"
   ]
  },
  {
   "cell_type": "code",
   "execution_count": 22,
   "metadata": {},
   "outputs": [
    {
     "name": "stdout",
     "output_type": "stream",
     "text": [
      "{'nekilüm': True, 'almırdum': True, 'özkanım': False, 'karokum': True, 'almalar': True, 'dökulön': False}\n"
     ]
    }
   ],
   "source": [
    "harmony = {}\n",
    "for word in fake_turkish:\n",
    "    front_count = 0\n",
    "    back_count = 0\n",
    "    for char in word:\n",
    "        if char in front:\n",
    "            front_count += 1\n",
    "        if char in back:\n",
    "            back_count += 1\n",
    "    \n",
    "    if front_count > 0 and back_count == 0:\n",
    "        harmony[word] = True\n",
    "    if back_count > 0 and front_count == 0:\n",
    "        harmony[word] = True\n",
    "    if front_count > 0 and back_count > 0:\n",
    "        harmony[word] = False\n",
    "\n",
    "print(harmony)"
   ]
  },
  {
   "cell_type": "markdown",
   "metadata": {},
   "source": [
    "**Problem 4.** Write a code that asks user for a word and tells if that word is a palindrome. _Palindrome_ is a word that reads the same backwards as forwards, for example, \"rotator\", \"kayak\", \"mom\", \"level\"."
   ]
  },
  {
   "cell_type": "code",
   "execution_count": 23,
   "metadata": {},
   "outputs": [
    {
     "name": "stdout",
     "output_type": "stream",
     "text": [
      "Enter a word and check if it is a palindrome: racecar\n",
      "racecar is a palindrome.\n"
     ]
    }
   ],
   "source": [
    "word = input(\"Enter a word and check if it is a palindrome: \")\n",
    "if word == word[::-1]:\n",
    "    print(word + \" is a palindrome.\")\n",
    "else:\n",
    "    print(word + \" is not a palindrome\")"
   ]
  }
 ],
 "metadata": {
  "colab": {
   "collapsed_sections": [],
   "name": "Notebook_6.ipynb",
   "provenance": []
  },
  "kernelspec": {
   "display_name": "Python 3 (ipykernel)",
   "language": "python",
   "name": "python3"
  },
  "language_info": {
   "codemirror_mode": {
    "name": "ipython",
    "version": 3
   },
   "file_extension": ".py",
   "mimetype": "text/x-python",
   "name": "python",
   "nbconvert_exporter": "python",
   "pygments_lexer": "ipython3",
   "version": "3.9.13"
  },
  "vscode": {
   "interpreter": {
    "hash": "5e2c3a95197615e0f03f2cb0b412ba0410d0dc2251f9ffa66ba54e74ad00933f"
   }
  }
 },
 "nbformat": 4,
 "nbformat_minor": 1
}
