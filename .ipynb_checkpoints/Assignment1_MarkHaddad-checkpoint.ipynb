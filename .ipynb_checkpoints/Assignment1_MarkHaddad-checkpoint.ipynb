{
 "cells": [
  {
   "cell_type": "markdown",
   "metadata": {},
   "source": [
    "# Homework 1\n",
    "\n",
    "**Due on Thursday, Febrary 9, 2.00pm**\n",
    "\n",
    "Your submission will be a pdf of your Jupyter notebook which would have already ran"
   ]
  },
  {
   "cell_type": "markdown",
   "metadata": {},
   "source": [
    "**Problem 1.** You are given the following paragraph."
   ]
  },
  {
   "cell_type": "code",
   "execution_count": 1,
   "metadata": {},
   "outputs": [],
   "source": [
    "text = \"A glance around her studio reveals some of the complexity. The place is packed chockablock \" \\\n",
    "       \"with clusters of objects grouped by type: alarm clocks (maybe two dozen), antique books, model \" \\\n",
    "       \"clipper ships, African masks, birdcages, globes, painted wood watermelon slices, the Mexican \" \\\n",
    "       \"healing charms known as milagros and so-called mammy dolls piled on a chair.\""
   ]
  },
  {
   "cell_type": "markdown",
   "metadata": {},
   "source": [
    "Write a code that will ask the user to enter a word. Then check if this word is contained in the text given above."
   ]
  },
  {
   "cell_type": "code",
   "execution_count": 2,
   "metadata": {},
   "outputs": [
    {
     "name": "stdout",
     "output_type": "stream",
     "text": [
      "Enter a word: mask\n"
     ]
    },
    {
     "data": {
      "text/plain": [
       "True"
      ]
     },
     "execution_count": 2,
     "metadata": {},
     "output_type": "execute_result"
    }
   ],
   "source": [
    "word = input(\"Enter a word: \")\n",
    "word in text"
   ]
  },
  {
   "cell_type": "markdown",
   "metadata": {},
   "source": [
    "**Problem 2.** Write a condition that checks if the word \"banana\" is present in the user input. Make sure that it works independently of the capitalization!"
   ]
  },
  {
   "cell_type": "code",
   "execution_count": 3,
   "metadata": {},
   "outputs": [
    {
     "name": "stdout",
     "output_type": "stream",
     "text": [
      "Enter some text: BanaNas are cool\n"
     ]
    },
    {
     "data": {
      "text/plain": [
       "True"
      ]
     },
     "execution_count": 3,
     "metadata": {},
     "output_type": "execute_result"
    }
   ],
   "source": [
    "text = input(\"Enter some text: \")\n",
    "\"banana\" in text.lower()"
   ]
  },
  {
   "cell_type": "markdown",
   "metadata": {},
   "source": [
    "**Problem 3.** Ask the user for the year in which they were born, and print the age of the user. (Assume that the user's birthday is always January 1 so that the calculation is simple.)\n",
    "\n",
    "_Hint:_ the `int` function might be useful here."
   ]
  },
  {
   "cell_type": "code",
   "execution_count": 4,
   "metadata": {},
   "outputs": [
    {
     "name": "stdout",
     "output_type": "stream",
     "text": [
      "What year were you born? 2003\n",
      "20\n"
     ]
    }
   ],
   "source": [
    "input = input(\"What year were you born? \")\n",
    "year = int(input)\n",
    "age = 2023 - year\n",
    "print(age)"
   ]
  },
  {
   "cell_type": "markdown",
   "metadata": {},
   "source": [
    "**Problem 4.** With string concatenation you can also play a round of *Mad Libs*.\n",
    "If you aren't familiar with the game, here's how it works: you have a predetermined text where certain words have been replaced by their part of speech, for example *verb*, *noun*, *adjective*.\n",
    "For each gap, you ask a friend to say a word of that part of speech.\n",
    "You then put those words in the gap and read out the text aloud.\n",
    "Ideally, hilarity ensues.\n",
    "\n",
    "Here's an example adapted from the very first Mad Libs book:\n",
    "\n",
    "~~~\n",
    "\"[exclamation]! He said [adverb] as he jumped into his convertible\n",
    "[noun] and drove off with his [adjective] friend.\"\n",
    "\n",
    "\"Ron! He said better as he jumped into his convertible\n",
    "Tesla and drove off with his irritating friend.\"\n",
    "~~~\n",
    "\n",
    "Write a program that allows the user to play a single round of Mad Libs with the computer (e.g. like the round above)."
   ]
  },
  {
   "cell_type": "code",
   "execution_count": 1,
   "metadata": {},
   "outputs": [
    {
     "name": "stdout",
     "output_type": "stream",
     "text": [
      "Enter the following parts of speech for a game of Mad Libs! ...\n",
      "Verb: walk\n",
      "Adjective: funny\n",
      "Noun: ball\n",
      "Verb ending in -ing: speeding\n",
      "Verb: run\n",
      "Plural noun: beachballs\n",
      "Today I decided to walk with my friend Eric. He has a really funny ball that he's always wanted to show me. We went to see it, and soon it started speeding. I then run since I started to get scared, and all of the beachballs flew away.\n"
     ]
    }
   ],
   "source": [
    "print(\"Enter the following parts of speech for a game of Mad Libs! ...\")\n",
    "\n",
    "verb1 = input(\"Verb: \")\n",
    "adjective1 = input(\"Adjective: \")\n",
    "noun1 = input(\"Noun: \")\n",
    "verb2 = input(\"Verb ending in -ing: \")\n",
    "verb3 = input(\"Verb: \")\n",
    "noun2 = input(\"Plural noun: \")\n",
    "print(\"Today I decided to \" + verb1 + \" with my friend Eric. He has a really \" + adjective1 + \" \" + noun1 + \" that he's always wanted to show me. We went to see it, and soon it started \" + verb2 + \". I then \" + verb3 + \" since I started to get scared, and all of the \" + noun2 + \" flew away.\")\n",
    "\n"
   ]
  },
  {
   "cell_type": "markdown",
   "metadata": {},
   "source": [
    "**Problem 5.** Ask the user to define what is the minimal number of characters for a word to be considered long. Ask for another input, in this case, a word. Afterwards, write a boolean expression that checks if the word provided by a user is long or not."
   ]
  },
  {
   "cell_type": "code",
   "execution_count": 2,
   "metadata": {},
   "outputs": [
    {
     "name": "stdout",
     "output_type": "stream",
     "text": [
      "What is the minimum number of characters for a word to be considered long? 8\n",
      "Enter a word: pentagons\n",
      "True\n"
     ]
    }
   ],
   "source": [
    "min_num = int(input(\"What is the minimum number of characters for a word to be considered long? \"))\n",
    "word = input(\"Enter a word: \")\n",
    "long = False\n",
    "if len(word) >= min_num:\n",
    "\tlong = True\n",
    "print(long)"
   ]
  },
  {
   "cell_type": "markdown",
   "metadata": {},
   "source": [
    "**Peoblem 6 (4 points).**\n",
    "You might have heard of *Dungeons & Dragons*, a pen-and-paper roleplaying game where the player creates their own fantasy character and then plays this character in a series of adventures.\n",
    "There are different types of characters to choose from, but they must satisfy certain requirements.\n",
    "\n",
    "_Alignment_ places the character's ethics and morals along two axes: lawful-neutral-chaotic, and good-neutral-evil. Here is a selection of alignments of the characters:\n",
    "\n",
    "- _Paladin:_ lawful-good\n",
    "- _Antipaladin:_ chaotic-evil\n",
    "- _Monk:_ any combination with lawful\n",
    "- _Rogue:_ any combination that's not lawful\n",
    "- _Druid:_ must not be lawful-good or chaotic-good\n",
    "- _Fighter:_ anything goes\n",
    "\n",
    "Ask the user for their preferred position on these two axes, and print on the screen possible characters for the user. The list should not contain any duplicates.\n",
    "If the user enters a choice that does not exist, tell them so and assume `neutral` instead.\n",
    "Here is an example of user choices and the resulting alignment!\n",
    "\n",
    "    Choose one from lawful-neutral-chaotic: chaotic\n",
    "    Choose one from good-neutral-evil: good\n",
    "    \n",
    "    You are chaotic-good. You can be:\n",
    "    - rogue\n",
    "    - fighter\n",
    "    \n",
    " **Hint.** Before you start coding, take a piece of paper and think of how you would structure the program:\n",
    " \n",
    " - how many choice points will the user have?\n",
    " - will some choices depend exclusively on others?\n",
    " - how would you nest then then?\n",
    " \n",
    "Drawing the flow of options and possibilities down can also help!"
   ]
  },
  {
   "cell_type": "code",
   "execution_count": 3,
   "metadata": {},
   "outputs": [
    {
     "name": "stdout",
     "output_type": "stream",
     "text": [
      "Choose one from lawful-neutral-chaotic: lawful\n",
      "Choose one from good-neutral-evil: evil\n",
      "\n",
      "You are lawful-evil. You can be:\n",
      "- monk\n",
      "- druid\n",
      "- fighter\n"
     ]
    }
   ],
   "source": [
    "axis1 = input(\"Choose one from lawful-neutral-chaotic: \").lower()\n",
    "axis2 = input(\"Choose one from good-neutral-evil: \").lower()\n",
    "print()\n",
    "print(\"You are \" + axis1 + \"-\" + axis2 +\". You can be:\")\n",
    "if axis1 == \"lawful\":\n",
    "\tif axis2 == \"good\":\n",
    "\t\tprint(\"- paladin\")\n",
    "\t\tprint(\"- monk\")\n",
    "\t\tprint(\"- fighter\")\n",
    "\telif axis2 == \"neutral\" or axis2 == \"evil\":\n",
    "\t\tprint(\"- monk\")\n",
    "\t\tprint(\"- druid\")\n",
    "\t\tprint(\"- fighter\")\n",
    "elif axis1 == \"neutral\":\n",
    "\tif axis2 == \"good\" or axis2 == \"neutral\" or axis2 == \"evil\":\n",
    "\t\tprint(\"- rogue\")\n",
    "\t\tprint(\"- druid\")\n",
    "\t\tprint(\"- fighter\")\n",
    "elif axis1 == \"chaotic\":\n",
    "\tif axis2 == \"good\":\n",
    "\t\tprint(\"- rogue\")\n",
    "\t\tprint(\"- fighter\")\n",
    "\telif axis2 == \"neutral\":\n",
    "\t\tprint(\"- rogue\")\n",
    "\t\tprint(\"- druid\")\n",
    "\t\tprint(\"- fighter\")\n",
    "\telif axis2 == \"evil\":\n",
    "\t\tprint(\"- antipaladin\")\n",
    "\t\tprint(\"- rogue\")\n",
    "\t\tprint(\"- druid\")\n",
    "\t\tprint(\"- fighter\")"
   ]
  },
  {
   "cell_type": "markdown",
   "metadata": {},
   "source": [
    "**Problem 7 (3 points).** You are given the following list of words whose reversals are words as well. There are [more](https://www.buzzfeed.com/kellyoakes/words-that-mean-something-different-backwards) of those, but let's assume for this exercise that the list is comprehensive and contains all possible words on this kind."
   ]
  },
  {
   "cell_type": "code",
   "execution_count": 4,
   "metadata": {},
   "outputs": [
    {
     "name": "stdout",
     "output_type": "stream",
     "text": [
      "Enter a word to see if it is a reversal word: stressed\n",
      "stressed is reversable: stressed -> desserts\n"
     ]
    }
   ],
   "source": [
    "reversal_words = [\"desserts\", \"stressed\", \"live\", \"evil\", \"knits\", \"stink\", \"sports\", \"strops\",\n",
    "                 \"regal\", \"lager\", \"pupils\", \"slipup\", \"raw\", \"war\", \"pals\", \"slap\"]\n",
    "word = input(\"Enter a word to see if it is a reversal word: \")\t\t\t\n",
    "if word[::-1] in reversal_words:\n",
    "\tprint(word, \"is reversable:\", word, \"->\", word[::-1])\n",
    "else:\n",
    "\tprint(word, \"is not reversable.\")"
   ]
  },
  {
   "cell_type": "markdown",
   "metadata": {},
   "source": [
    "**Problem 8 (3 points).** Leap and non-leap years.\n",
    "\n",
    "    A year is leap year if it is divisible by 4 unless it is a century year (i.e. ends with 00). A century year is only leap when it is divisible by 400.\n",
    "    \n",
    "For this exercise, it would be convenient to use the modulo division operator `%`:"
   ]
  },
  {
   "cell_type": "code",
   "execution_count": 5,
   "metadata": {},
   "outputs": [
    {
     "name": "stdout",
     "output_type": "stream",
     "text": [
      "Enter a year to see if it is a leap year or not: 2008\n",
      "Leap year\n"
     ]
    }
   ],
   "source": [
    "year = int(input(\"Enter a year to see if it is a leap year or not: \"))\n",
    "\n",
    "if (year % 4 == 0 and year % 100 != 0) or year % 400 == 0:\n",
    "\tprint(\"Leap year\")\n",
    "else:\n",
    "\tprint(\"Not a leap year\")"
   ]
  }
 ],
 "metadata": {
  "kernelspec": {
   "display_name": "Python 3 (ipykernel)",
   "language": "python",
   "name": "python3"
  },
  "language_info": {
   "codemirror_mode": {
    "name": "ipython",
    "version": 3
   },
   "file_extension": ".py",
   "mimetype": "text/x-python",
   "name": "python",
   "nbconvert_exporter": "python",
   "pygments_lexer": "ipython3",
   "version": "3.9.13"
  },
  "vscode": {
   "interpreter": {
    "hash": "5e2c3a95197615e0f03f2cb0b412ba0410d0dc2251f9ffa66ba54e74ad00933f"
   }
  }
 },
 "nbformat": 4,
 "nbformat_minor": 2
}
