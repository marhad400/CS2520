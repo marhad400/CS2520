{
 "cells": [
  {
   "attachments": {},
   "cell_type": "markdown",
   "metadata": {},
   "source": [
    "\n",
    "\n",
    "# Notebook 9: classes and inheritance\n",
    "\n",
    "This notebook covers the notion of a `class` and introduces the notion of **object-oriented programming** (OOP) in contrast to the **functional** programming approach we have implicitly used so far. As for Python-specific concepts, this notebook exemplifies how to define a new class, its attributes, and its methods. We also discuss inheritance."
   ]
  },
  {
   "cell_type": "markdown",
   "metadata": {},
   "source": [
    "**Programming paradigms** are ways to classify programming languages based on the way they allow you to structure your program.\n",
    "So far, we have treated Python as a _functional_ programming language.\n",
    "Roughly speaking, **functional** programming implements the _actions,_ or functions, that map some input to some output.\n",
    "It is a procedural approach organized around functions, flows, and code blocks.\n",
    "However, Python also allows for an **Object-oriented** programming appoach.\n",
    "**Object-oriented** programming has objects as its core, not just as a way to define data structures, but for the overall structure of the code.\n",
    "\n",
    "Intuitively the difference between the two is between a focus on the functions/procedures vs. a focus on the properties of objects.\n",
    "\n",
    "This notebook is concerned with introducing you to the main functionality of OOP. Note though that, since this is essentially a paradigm shift, familiarity with it requires practice.\n",
    "If you want to read more about OOP in Python, this is a good start: https://realpython.com/python3-object-oriented-programming/#what-is-object-oriented-programming-in-python"
   ]
  },
  {
   "cell_type": "markdown",
   "metadata": {},
   "source": [
    "## Class definition\n",
    "\n",
    "A **class** is a blueprint to create an object, and associate to it properties and behaviors.\n",
    "\n",
    "For example, we can create an object Car, with the following properties (attributes) and behaviors (methods):\n",
    "\n",
    "  * name: Car\n",
    "  * attributes: Car.make (i.e. Jeep), Car.color (i.e. black), Car.year (i.e. 2006)\n",
    "  * methods: Car.get_fuel(), Car.drive(speed), Car.lock()\n",
    "  \n",
    "In Python, attributes and methods need to be listed in the _class definition._ In order to define a new class, we use the `class` operator followed by a name of the class.\n",
    "\n",
    "    class NewObject:\n",
    "        # code\n",
    "        "
   ]
  },
  {
   "cell_type": "code",
   "execution_count": 1,
   "metadata": {},
   "outputs": [],
   "source": [
    "class Rectangle:\n",
    "    pass"
   ]
  },
  {
   "cell_type": "markdown",
   "metadata": {},
   "source": [
    "## Attributes definition and Class Instances\n",
    "\n",
    "The next step will be to list properties, or **attributes,** of that object, i.e. color, size, make, etc. Attributes do not refer to any actions, they simply describe the features of that object.\n",
    "\n",
    "    class NewObject:\n",
    "    \n",
    "        def __init__(self, make, year):\n",
    "            self.make = make\n",
    "            self.year = year\n",
    "            \n",
    "The function `__init__` _always_ must be present in the class definition: it will instantiate properties of that class. Notice the `self` argument of this function: it basically means that this function, or _method,_ is operating on the class itself. `__init__` initializes the attributes of the class `NewObject`."
   ]
  },
  {
   "cell_type": "code",
   "execution_count": 1,
   "metadata": {},
   "outputs": [],
   "source": [
    "class Rectangle(object):\n",
    "    \n",
    "\tdef __init__(self, length, width, color):\n",
    "\t\tself.length = length\n",
    "\t\tself.width = width\n",
    "\t\tself.color = color"
   ]
  },
  {
   "cell_type": "markdown",
   "metadata": {},
   "source": [
    "Here, we are initializing a class `Rectangle`, and it will have 3 attributes: `side_1`, `side_2` and `color`. Whatever arguments `__init__` takes, except `self`, must be provided as arguments of the class itself upon initialization.\n",
    "\n",
    "We have now created an abstract definition for th object Rectangle.\n",
    "We can then generate specific Rectangle objects, with real values for each attribute of the class.\n",
    "\n",
    "While the class is the blueprint, an **instance** is an object that is built from a class and contains real data. An instance of the Rectangle class is not a blueprint anymore. It’s an actual rectabgle with a height, width, and a color."
   ]
  },
  {
   "cell_type": "code",
   "execution_count": 2,
   "metadata": {},
   "outputs": [],
   "source": [
    "x = Rectangle(5, 3, \"red\")"
   ]
  },
  {
   "cell_type": "markdown",
   "metadata": {},
   "source": [
    "Now that we have an instance of the class. we can access its attributes directly. **Dot operator** is used to access an attribute or a method of a particular class:\n",
    "    \n",
    "    class_name.attribute_name\n",
    "    class_name.method_name(arg1, arg2)"
   ]
  },
  {
   "cell_type": "code",
   "execution_count": 3,
   "metadata": {},
   "outputs": [
    {
     "data": {
      "text/plain": [
       "'red'"
      ]
     },
     "execution_count": 3,
     "metadata": {},
     "output_type": "execute_result"
    }
   ],
   "source": [
    "x.color"
   ]
  },
  {
   "cell_type": "markdown",
   "metadata": {},
   "source": [
    "Notice that the names of the arguments of `__init__` and the names of the attributes don't need to match, but it is a convention to have them matching."
   ]
  },
  {
   "cell_type": "code",
   "execution_count": 4,
   "metadata": {},
   "outputs": [
    {
     "name": "stdout",
     "output_type": "stream",
     "text": [
      "length 5\n",
      "color blue\n"
     ]
    }
   ],
   "source": [
    "class Rectangle(object):\n",
    "    \n",
    "\tdef __init__(self, length, width, color):\n",
    "\t\tself.len = length\n",
    "\t\tself.wid = width\n",
    "\t\tself.col = color\n",
    "\t\n",
    "obj = Rectangle(5, 6, 'blue')\n",
    "print(\"length\", obj.len)\n",
    "print(\"color\", obj.col)"
   ]
  },
  {
   "cell_type": "markdown",
   "metadata": {},
   "source": [
    "The value of the attributes can be changed directly. "
   ]
  },
  {
   "cell_type": "code",
   "execution_count": 5,
   "metadata": {},
   "outputs": [
    {
     "name": "stdout",
     "output_type": "stream",
     "text": [
      "old length 5\n",
      "new length 10\n"
     ]
    }
   ],
   "source": [
    "print(\"old length\", x.length)\n",
    "x.length = 10\n",
    "print(\"new length\", x.length)\n"
   ]
  },
  {
   "cell_type": "markdown",
   "metadata": {},
   "source": [
    "If we have more that one object defined, dot operator helps us not to get confused in attributes of different objects:"
   ]
  },
  {
   "cell_type": "code",
   "execution_count": 6,
   "metadata": {},
   "outputs": [
    {
     "name": "stdout",
     "output_type": "stream",
     "text": [
      "color of a red\n",
      "color of b blue\n"
     ]
    }
   ],
   "source": [
    "a = Rectangle(3, 5, 'red')\n",
    "b = Rectangle(5, 7, 'blue')\n",
    "\n",
    "print(\"color of a\", a.col)\n",
    "print(\"color of b\", b.col)"
   ]
  },
  {
   "cell_type": "markdown",
   "metadata": {},
   "source": [
    "**Practice:** set up the classes for the following objects: `Book`, `Door`, `Cat`."
   ]
  },
  {
   "cell_type": "code",
   "execution_count": null,
   "metadata": {},
   "outputs": [],
   "source": [
    "class Book:\n",
    "    def __init__(self, num_pages, title, author):\n",
    "        self.num_pages = num_pages\n",
    "        self.title = title\n",
    "        self.author = author\n",
    "\n",
    "class Door:\n",
    "    def __init__(self, length, width, color, material):\n",
    "        self.length = length\n",
    "        self.width = width\n",
    "        self.color = color\n",
    "        self.material = material\n",
    "        \n",
    "class Cat:\n",
    "    def __init__(self, breed):\n",
    "        self.breed = breed"
   ]
  },
  {
   "cell_type": "markdown",
   "metadata": {},
   "source": [
    "## Methods definition\n",
    "\n",
    "Now let us define some methods. They look like functions defined inside classes. The crucial difference is that methods must have `self` as the first argument: it simply means that that function/method is applied to the object itself.\n",
    "\n",
    "    class NewObject:\n",
    "    \n",
    "        def __init__(self, make, year):\n",
    "            self.make = make\n",
    "            self.year = year\n",
    "            \n",
    "        def method_name(self, arg1, arg2):\n",
    "            # code"
   ]
  },
  {
   "cell_type": "code",
   "execution_count": 11,
   "metadata": {},
   "outputs": [],
   "source": [
    "class Rectangle(object):\n",
    "    \n",
    "\tdef __init__(self, length, width, color):\n",
    "\t\tself.length = length\n",
    "\t\tself.width = width\n",
    "\t\tself.color = color\n",
    "\n",
    "\tdef calculate_area(self):\n",
    "\t\treturn self.length*self.width"
   ]
  },
  {
   "cell_type": "markdown",
   "metadata": {},
   "source": [
    "The method `calculate_area` in the code above requires no arguments apart from `self` because the information about the sides does not need to be provided: _it is already available!_ Calling `self.side_1` and `self.side_2` allows us to get that information."
   ]
  },
  {
   "cell_type": "code",
   "execution_count": 12,
   "metadata": {},
   "outputs": [
    {
     "data": {
      "text/plain": [
       "15"
      ]
     },
     "execution_count": 12,
     "metadata": {},
     "output_type": "execute_result"
    }
   ],
   "source": [
    "a = Rectangle(5, 3, 'red')\n",
    "a.calculate_area()"
   ]
  },
  {
   "cell_type": "markdown",
   "metadata": {},
   "source": [
    "The method `calculate_area` calculates the area of the rectangle and returns the value. However, we can instead go ahead and save the value into a special attribute `area`. Notice that we do not expect `area` to be provided beforehand. **Every attribute, even if its value is not known yet, needs to be initialized inside the `__init__`.**"
   ]
  },
  {
   "cell_type": "code",
   "execution_count": 15,
   "metadata": {},
   "outputs": [],
   "source": [
    "class Rectangle(object):\n",
    "    \n",
    "\tdef __init__(self, length, width, color):\n",
    "\t\tself.length = length\n",
    "\t\tself.width = width\n",
    "\t\tself.color = color\n",
    "\t\tself.area = None\n",
    "\t\n",
    "\tdef calculate_area(self):\n",
    "\t\tself.area = self.length*self.width"
   ]
  },
  {
   "cell_type": "code",
   "execution_count": 16,
   "metadata": {},
   "outputs": [],
   "source": [
    "a = Rectangle(5, 3, 'red')\n",
    "a.calculate_area()"
   ]
  },
  {
   "cell_type": "code",
   "execution_count": 17,
   "metadata": {
    "scrolled": true
   },
   "outputs": [
    {
     "data": {
      "text/plain": [
       "15"
      ]
     },
     "execution_count": 17,
     "metadata": {},
     "output_type": "execute_result"
    }
   ],
   "source": [
    "a.area"
   ]
  },
  {
   "cell_type": "markdown",
   "metadata": {},
   "source": [
    "**Question:** is it possible for the `area` attribute to contain a wrong value?"
   ]
  },
  {
   "cell_type": "markdown",
   "metadata": {},
   "source": [
    "**Practice:** add a method `is_square` to the class `Rectangle` that will return `True` if the rectangle is a square, and `False` otherwise."
   ]
  },
  {
   "cell_type": "code",
   "execution_count": 18,
   "metadata": {},
   "outputs": [],
   "source": [
    "class Rectangle:\n",
    "    \n",
    "    def __init__(self, side_1, side_2, color):\n",
    "        self.side_1 = side_1\n",
    "        self.side_2 = side_2\n",
    "        self.color = color\n",
    "        self.area = None\n",
    "        \n",
    "    def calculate_area(self):\n",
    "        self.area = self.side_1 * self.side_2\n",
    "        \n",
    "    # add the code for the method \"is_square\" here\n",
    "    def is_square(self):\n",
    "        return self.side_1 == self.side_2"
   ]
  },
  {
   "cell_type": "code",
   "execution_count": 21,
   "metadata": {},
   "outputs": [
    {
     "name": "stdout",
     "output_type": "stream",
     "text": [
      "True\n",
      "False\n"
     ]
    }
   ],
   "source": [
    "r = Rectangle(4, 4, 'blue')\n",
    "k = Rectangle(4, 5, 'green')\n",
    "print(r.is_square())\n",
    "print(k.is_square())"
   ]
  },
  {
   "cell_type": "markdown",
   "metadata": {},
   "source": [
    "## Inheritance\n",
    "\n",
    "Inheritance is the process by which one class takes on the attributes and methods of another. Newly formed classes are called _child classes_, and the classes that child classes are derived from are called _parent classes_.\n",
    "\n",
    "    class SomeClass(ItsParentClass):\n",
    "        # code\n",
    "        \n",
    "Let's say we want to define a class `Vehicle` implementing generic methods and attributes for vehicles, and then we want to introduce classes `Boat` and `Car` that inherit from `Vehicle` and add additional car-specific or boat-specific functionality.\n",
    "\n",
    "Let us first implement the class `Vehicle`."
   ]
  },
  {
   "cell_type": "code",
   "execution_count": 2,
   "metadata": {},
   "outputs": [],
   "source": [
    "class Vehicle:\n",
    "    \n",
    "\tdef __init__(self, year, max_speed):\n",
    "\t\tself.year = year\n",
    "\t\tself.max_speed = max_speed\n",
    "\t\n",
    "\tdef drive(self, speed):\n",
    "\n",
    "\t\tif speed <= self.max_speed:\n",
    "\t\t\tprint(\"Driving speed is\", speed, \"mph\")\n",
    "\t\telse:\n",
    "\t\t\tprint(\"Too fast!\", self.max_speed, \"mph\")"
   ]
  },
  {
   "cell_type": "markdown",
   "metadata": {},
   "source": [
    "Test how the method `drive` behaves with different speeds."
   ]
  },
  {
   "cell_type": "code",
   "execution_count": 26,
   "metadata": {},
   "outputs": [
    {
     "name": "stdout",
     "output_type": "stream",
     "text": [
      "Too fast! 70 mph\n"
     ]
    }
   ],
   "source": [
    "jeep = Vehicle(2006, 70)\n",
    "jeep.drive(80)"
   ]
  },
  {
   "cell_type": "markdown",
   "metadata": {},
   "source": [
    "Now, let us initialize the classes `Boat` and `Car` that will **inherit** from `Vehicle`."
   ]
  },
  {
   "cell_type": "code",
   "execution_count": 28,
   "metadata": {},
   "outputs": [],
   "source": [
    "class Boat(Vehicle):\n",
    "    pass\n",
    "\n",
    "class Car(Vehicle):\n",
    "    pass"
   ]
  },
  {
   "cell_type": "markdown",
   "metadata": {},
   "source": [
    "**Inheriting** from `Vehicle` means that all methods and attributes of the parental class are now available in the children classes as well."
   ]
  },
  {
   "cell_type": "code",
   "execution_count": 29,
   "metadata": {},
   "outputs": [
    {
     "data": {
      "text/plain": [
       "2006"
      ]
     },
     "execution_count": 29,
     "metadata": {},
     "output_type": "execute_result"
    }
   ],
   "source": [
    "jeep = Car(2006, 50)\n",
    "jeep.year"
   ]
  },
  {
   "cell_type": "code",
   "execution_count": 30,
   "metadata": {},
   "outputs": [
    {
     "name": "stdout",
     "output_type": "stream",
     "text": [
      "Too fast! 0 mph\n"
     ]
    }
   ],
   "source": [
    "titanic = Boat(1909, 0)\n",
    "titanic.drive(30)"
   ]
  },
  {
   "cell_type": "markdown",
   "metadata": {},
   "source": [
    "If you want to add some `Car`-specific methods, you can simply do so by simply defining new methods for that class. Not that **methods defined in the children classes are not available in the parent classes.**"
   ]
  },
  {
   "cell_type": "code",
   "execution_count": 32,
   "metadata": {},
   "outputs": [],
   "source": [
    "class Car(Vehicle):\n",
    "    \n",
    "\tdef pass_a_car(self, my_speed, their_speed):\n",
    "        \n",
    "\t\tif my_speed>their_speed:\n",
    "\t\t\tprint(\"Passing\")\n",
    "\t\telse:\n",
    "\t\t\tprint(\"Not passing\")"
   ]
  },
  {
   "cell_type": "code",
   "execution_count": 35,
   "metadata": {},
   "outputs": [
    {
     "name": "stdout",
     "output_type": "stream",
     "text": [
      "Not passing\n"
     ]
    }
   ],
   "source": [
    "jeep = Car(2006, 70)\n",
    "jeep.pass_a_car(38, 39)"
   ]
  },
  {
   "cell_type": "markdown",
   "metadata": {},
   "source": [
    "The function `pass_a_car` is now available for the class `Car`, however, it is not defined for the sibling or parent classes."
   ]
  },
  {
   "cell_type": "code",
   "execution_count": 34,
   "metadata": {},
   "outputs": [
    {
     "ename": "AttributeError",
     "evalue": "'Vehicle' object has no attribute 'pass_a_car'",
     "output_type": "error",
     "traceback": [
      "\u001b[0;31m---------------------------------------------------------------------------\u001b[0m",
      "\u001b[0;31mAttributeError\u001b[0m                            Traceback (most recent call last)",
      "\u001b[0;32m/var/folders/nh/g3mv0wms0ss2dw3kgtlk_p1h0000gn/T/ipykernel_266/1798239574.py\u001b[0m in \u001b[0;36m<module>\u001b[0;34m\u001b[0m\n\u001b[1;32m      1\u001b[0m \u001b[0mjeep\u001b[0m \u001b[0;34m=\u001b[0m \u001b[0mVehicle\u001b[0m\u001b[0;34m(\u001b[0m\u001b[0;36m2006\u001b[0m\u001b[0;34m,\u001b[0m \u001b[0;36m70\u001b[0m\u001b[0;34m)\u001b[0m\u001b[0;34m\u001b[0m\u001b[0;34m\u001b[0m\u001b[0m\n\u001b[0;32m----> 2\u001b[0;31m \u001b[0mjeep\u001b[0m\u001b[0;34m.\u001b[0m\u001b[0mpass_a_car\u001b[0m\u001b[0;34m(\u001b[0m\u001b[0;36m38\u001b[0m\u001b[0;34m,\u001b[0m \u001b[0;36m39\u001b[0m\u001b[0;34m)\u001b[0m\u001b[0;34m\u001b[0m\u001b[0;34m\u001b[0m\u001b[0m\n\u001b[0m",
      "\u001b[0;31mAttributeError\u001b[0m: 'Vehicle' object has no attribute 'pass_a_car'"
     ]
    }
   ],
   "source": [
    "jeep2 = Vehicle(2006, 70)\n",
    "jeep2.pass_a_car(38, 39)"
   ]
  },
  {
   "cell_type": "markdown",
   "metadata": {},
   "source": [
    "The method `pass_a_car` takes two arguments: `my_speed` and `their_speed`, where `my_speed` is the speed of the car itself. _Itself_ is a good indicator that we are dealing with a good candidate to become an attribute of the class `Car`. Let us add a new attribute to the class `Car`!"
   ]
  },
  {
   "cell_type": "code",
   "execution_count": 39,
   "metadata": {},
   "outputs": [],
   "source": [
    "class Car(Vehicle):\n",
    "    \n",
    "\tdef __init__(self, my_speed):\n",
    "\t\tself.my_speed = my_speed\n",
    "\n",
    "\tdef pass_a_car(self, their_speed):\n",
    "        \n",
    "\t\tif self.my_speed>their_speed:\n",
    "\t\t\tprint(\"Passing\")\n",
    "\t\telse:\n",
    "\t\t\tprint(\"Not passing\")"
   ]
  },
  {
   "cell_type": "markdown",
   "metadata": {},
   "source": [
    "In fact, as the code below shows, `my_speed` is now an attribute."
   ]
  },
  {
   "cell_type": "code",
   "execution_count": 40,
   "metadata": {},
   "outputs": [
    {
     "data": {
      "text/plain": [
       "80"
      ]
     },
     "execution_count": 40,
     "metadata": {},
     "output_type": "execute_result"
    }
   ],
   "source": [
    "car = Car(80)\n",
    "car.my_speed"
   ]
  },
  {
   "cell_type": "markdown",
   "metadata": {},
   "source": [
    "**Be careful though**. The new function `__init__` of the `Car` class rewrote the original `__init__` of the `Vehicle` completely: attributes `year` and `max_speed` are not implemented anymore."
   ]
  },
  {
   "cell_type": "code",
   "execution_count": null,
   "metadata": {},
   "outputs": [],
   "source": []
  },
  {
   "cell_type": "markdown",
   "metadata": {},
   "source": [
    "It we want to **add** add new atributes to the children class, we need to re-implement the parent's attributes as well."
   ]
  },
  {
   "cell_type": "code",
   "execution_count": 42,
   "metadata": {},
   "outputs": [],
   "source": [
    "class Car(Vehicle):\n",
    "    \n",
    "\tdef __init__(self, my_speed, max_speed, year):\n",
    "\t\tself.my_speed = my_speed\n",
    "\t\tself.max_speed = max_speed\n",
    "\t\tself.year = year\n",
    "\n",
    "\tdef pass_a_car(self, their_speed):\n",
    "        \n",
    "\t\tif self.my_speed>their_speed:\n",
    "\t\t\tprint(\"Passing\")\n",
    "\t\telse:\n",
    "\t\t\tprint(\"Not passing\")"
   ]
  },
  {
   "cell_type": "markdown",
   "metadata": {},
   "source": [
    "Now, for the class `Car`, every attribute and method available in `Vehicle` is available as well, and also the newly defined attribute `my_speed` and the new method `pass_a_car`."
   ]
  },
  {
   "cell_type": "code",
   "execution_count": 43,
   "metadata": {},
   "outputs": [
    {
     "name": "stdout",
     "output_type": "stream",
     "text": [
      "2004\n",
      "Driving speed is 45 mph\n",
      "Passing\n"
     ]
    }
   ],
   "source": [
    "a = Car(80, 45, 2004)\n",
    "print(a.year)\n",
    "a.drive(45)\n",
    "a.pass_a_car(70)"
   ]
  },
  {
   "cell_type": "markdown",
   "metadata": {},
   "source": [
    "If the `__init__` method of the class needs to be modified by adding attributes that are not implemented for the parent class, we can access and run `__init__` of the parent class by calling `super().__init__`.\n",
    "\n",
    "    class Child(Parent):\n",
    "    \n",
    "        def __init__(self, parent_att1, parent_att2, new_att1):\n",
    "            super().__init__(parent_att1, parent_att2)\n",
    "            self.new_att1 = new_att1\n",
    "            \n",
    "The code below is the modified version of the previous definition of the class `Car`."
   ]
  },
  {
   "cell_type": "code",
   "execution_count": 3,
   "metadata": {},
   "outputs": [
    {
     "name": "stdout",
     "output_type": "stream",
     "text": [
      "45\n",
      "Driving speed is 45 mph\n",
      "Passing\n"
     ]
    }
   ],
   "source": [
    "class Car(Vehicle):\n",
    "    \n",
    "\tdef __init__(self, max_speed, my_speed, year):\n",
    "\t\t#old attributes from parent class\n",
    "\t\tsuper().__init__(year, max_speed)\n",
    "\t\t#new attributes\n",
    "\t\tself.my_speed = my_speed\n",
    "\n",
    "\tdef pass_a_car(self, their_speed):\n",
    "        \n",
    "\t\tif self.my_speed>their_speed:\n",
    "\t\t\tprint(\"Passing\")\n",
    "\t\telse:\n",
    "\t\t\tprint(\"Not passing\")\n",
    "\n",
    "a = Car(2004, 80, 45)\n",
    "print(a.year)\n",
    "a.drive(45)\n",
    "a.pass_a_car(70)"
   ]
  },
  {
   "attachments": {},
   "cell_type": "markdown",
   "metadata": {},
   "source": [
    "If there are several classes and some of them inherit from others, the dependencies can quickly become complicated and hard to remember. To keep track of classes and the dependencies, people usually draw **class diagrams**. A simple class diagram representing the structure of the class `Vehicle` and its children classes.\n",
    "\n"
   ]
  },
  {
   "attachments": {},
   "cell_type": "markdown",
   "metadata": {},
   "source": [
    "**Practice:** implement the classes described in the class diagram"
   ]
  },
  {
   "cell_type": "code",
   "execution_count": 18,
   "metadata": {},
   "outputs": [],
   "source": [
    "class Pet:\n",
    "    def __init__(self, name, age, color):\n",
    "        self.name = name\n",
    "        self.age = age\n",
    "        self.color = color\n",
    "        \n",
    "    def get_older(self, years):\n",
    "        self.age += years\n",
    "    \n",
    "    def pet(self):\n",
    "        return \"Petting...\"\n",
    "    \n",
    "class Dog(Pet):\n",
    "    def __init__(self, name, age, color, tail_speed):\n",
    "        super().__init__(name, age, color)\n",
    "        self.tail_speed = tail_speed\n",
    "\n",
    "    def bark(self):\n",
    "        return \"Woof\"\n",
    "    \n",
    "class Cat(Pet):\n",
    "    def __init__(self, name, age, color, whiskers_length):\n",
    "        super().__init__(name, age, color)\n",
    "        self.whiskers_length = whiskers_length\n",
    "        \n",
    "    def meow(self):\n",
    "        return \"Meow\""
   ]
  },
  {
   "cell_type": "code",
   "execution_count": 21,
   "metadata": {},
   "outputs": [
    {
     "name": "stdout",
     "output_type": "stream",
     "text": [
      "Petting...\n",
      "16\n"
     ]
    }
   ],
   "source": [
    "doggo = Dog(\"brick\", 12, \"brown\", 15)\n",
    "doggo.get_older(4)\n",
    "print(doggo.pet())\n",
    "print(doggo.age)"
   ]
  }
 ],
 "metadata": {
  "kernelspec": {
   "display_name": "Python 3",
   "language": "python",
   "name": "python3"
  },
  "language_info": {
   "codemirror_mode": {
    "name": "ipython",
    "version": 3
   },
   "file_extension": ".py",
   "mimetype": "text/x-python",
   "name": "python",
   "nbconvert_exporter": "python",
   "pygments_lexer": "ipython3",
   "version": "3.9.13"
  },
  "vscode": {
   "interpreter": {
    "hash": "b0fa6594d8f4cbf19f97940f81e996739fb7646882a419484c72d19e05852a7e"
   }
  }
 },
 "nbformat": 4,
 "nbformat_minor": 2
}
