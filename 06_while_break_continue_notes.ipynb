{
 "cells": [
  {
   "cell_type": "markdown",
   "metadata": {},
   "source": [
    "**Practice.** Print all prime numbers in-between $2$ and $10$. A number is _prime_ if it cannot be divided by anything apart from $1$ and that number by itself. Additionally, [$1$ is not a prime number](https://primes.utm.edu/notes/faq/one.html)!\n",
    "\n",
    "_Hint:_  You might want to implement a flag:assume that a number is prime, check if it can be divided by anything apart from $1$ or the number by itself, and if it can, change the assumption."
   ]
  },
  {
   "cell_type": "code",
   "execution_count": 1,
   "metadata": {},
   "outputs": [
    {
     "name": "stdout",
     "output_type": "stream",
     "text": [
      "2\n",
      "3\n",
      "5\n",
      "7\n"
     ]
    }
   ],
   "source": [
    "for num in range(2,11):\n",
    "\tis_prime = True\n",
    "\tfor i in range(2,num):\n",
    "\t\tif num % i == 0:\n",
    "\t\t\tis_prime = False\n",
    "\tif is_prime:\n",
    "\t\tprint(num)"
   ]
  },
  {
   "cell_type": "markdown",
   "metadata": {},
   "source": [
    "\n",
    "## `break` statement\n",
    "\n",
    "The keyword `break` breaks the loop in which it is used. The code below will stop executing the loop in case `condition` is true.\n",
    "\n",
    "    for item in list:\n",
    "        if condition:\n",
    "            break\n",
    "        # if the condition is true the loop stops\n",
    "        #so any othe code in the loop won't be executed for any other element in list"
   ]
  },
  {
   "cell_type": "code",
   "execution_count": 2,
   "metadata": {},
   "outputs": [
    {
     "name": "stdout",
     "output_type": "stream",
     "text": [
      "1\n",
      "3\n",
      "5\n",
      "7\n"
     ]
    }
   ],
   "source": [
    "numbers = [1, 3, 5, 7, 8, 9, 11]\n",
    "for number in numbers:\n",
    "\tif number % 2 == 0:\n",
    "\t\tbreak\n",
    "\telse:\n",
    "\t\tprint(number)"
   ]
  },
  {
   "cell_type": "markdown",
   "metadata": {},
   "source": [
    "The code above is also slightly redundant: if `break` is executed, we break out of the loop. Therefore, we can safely assume that if we are still in the loop, the condition in `if` was not true."
   ]
  },
  {
   "cell_type": "code",
   "execution_count": 3,
   "metadata": {},
   "outputs": [
    {
     "name": "stdout",
     "output_type": "stream",
     "text": [
      "1\n",
      "3\n",
      "5\n",
      "7\n"
     ]
    }
   ],
   "source": [
    "numbers = [1, 3, 5, 7, 8, 9, 11]\n",
    "for number in numbers:\n",
    "\tif number % 2 == 0:\n",
    "\t\tbreak\n",
    "\tprint(number)"
   ]
  },
  {
   "cell_type": "markdown",
   "metadata": {},
   "source": [
    "However, assume that we have several nested `for`-loops. The statement `break` only breaks  the loop where it is used.\n",
    "\n",
    "    for item_1 in list_1:\n",
    "        for item_2 in list_2:\n",
    "            if condition:\n",
    "                break\n",
    "            # this code won't be available for the current and for the rest \n",
    "            # of items in list_2 if the condition is true\n",
    "                \n",
    "The code above will break out of the loop iterating the `list_2`, however, it will not affect in any other way the external loop.\n",
    "\n",
    "**Example.** Assume that we have a dictionary and a list of sentences. We want to save sentences in a separate list only if there is a word in that sentence that cannot be found in the dictionary. In other words, we want to save sentences that contain \"unknown\" words."
   ]
  },
  {
   "cell_type": "code",
   "execution_count": 4,
   "metadata": {},
   "outputs": [
    {
     "name": "stdout",
     "output_type": "stream",
     "text": [
      "['Bill drinks covfefe and tea', 'John is a solopreneur and a blogger']\n"
     ]
    }
   ],
   "source": [
    "dictionary = [\"Mary\", \"Bill\", \"John\", \"likes\", \"drinks\", \"swimming\", \"skiing\", \"is\", \"a\", \"and\", \"blogger\"]\n",
    "sentences = [\"Mary likes skiing\", \"Bill drinks covfefe and tea\", \"John likes swimming\", \n",
    "             \"John is a solopreneur and a blogger\"]\n",
    "\n",
    "new_sentences = []\n",
    "\n",
    "for sent in sentences:\n",
    "    words = sent.split()\n",
    "\n",
    "    for word in words:\n",
    "        if word not in dictionary:\n",
    "            new_sentences.append(sent)\n",
    "            break\n",
    "print(new_sentences)"
   ]
  },
  {
   "cell_type": "markdown",
   "metadata": {},
   "source": [
    "As soon as the unknown word was detected in the sentence, we added that sentence in the new list: there is not reason to spend time/memory and to scan that sentence further!\n",
    "\n",
    "**Practice.** Rewrite the code printing all prime numbers from $2$ to $10$ in a more efficient way by using the `break` statement."
   ]
  },
  {
   "cell_type": "code",
   "execution_count": 15,
   "metadata": {},
   "outputs": [
    {
     "name": "stdout",
     "output_type": "stream",
     "text": [
      "2\n",
      "3\n",
      "5\n",
      "7\n",
      "counter is 15\n"
     ]
    }
   ],
   "source": [
    "counter = 0\n",
    "for num in range(2,11):\n",
    "\tis_prime = True\n",
    "\tfor i in range(2,num):\n",
    "\t\tcounter += 1\n",
    "\t\tif num % i == 0:\n",
    "\t\t\tis_prime = False\n",
    "\t\t\tbreak\n",
    "\tif is_prime:\n",
    "\t\tprint(num)\n",
    "print(\"counter is\", counter)"
   ]
  },
  {
   "cell_type": "markdown",
   "metadata": {},
   "source": [
    "**Practice.** You are given a list of adjectives describing weather. Loop over every adjective and ask the user if it describes today's weather. If the user answers \"yes\", react somehow and stop there.\n",
    "\n",
    "Example output 1:\n",
    "\n",
    "    Is it sunny today? nope\n",
    "    Is it rainy today? no\n",
    "    Is it cloudy today? no\n",
    "    Is it dry today? no\n",
    "    Is it foggy today? yes\n",
    "    Got it!\n",
    "    \n",
    "Example output 2:\n",
    "\n",
    "    Is it sunny today? nope\n",
    "    Is it rainy today? yes\n",
    "    Got it!"
   ]
  },
  {
   "cell_type": "code",
   "execution_count": 1,
   "metadata": {
    "scrolled": true
   },
   "outputs": [
    {
     "name": "stdout",
     "output_type": "stream",
     "text": [
      "Is it sunny today? no\n",
      "Is it rainy today? no\n",
      "Is it cloudy today? no\n",
      "Is it dry today? yes\n",
      "Got it!\n"
     ]
    }
   ],
   "source": [
    "weather = [\"sunny\", \"rainy\", \"cloudy\", \"dry\", \"foggy\", \"clear\", \"freezing\"]\n",
    "for w in weather:\n",
    "\tanswer = input(f\"Is it {w} today? \")\n",
    "\tif answer.lower() == \"yes\":\n",
    "\t\tprint(\"Got it!\")\n",
    "\t\tbreak"
   ]
  },
  {
   "cell_type": "markdown",
   "metadata": {},
   "source": [
    "## `continue` statement\n",
    "\n",
    "The `continue` statement skips the rest of the code in the iteration where it is executed.\n",
    "\n",
    "    for item in list:\n",
    "        if condition:\n",
    "            continue\n",
    "        #  this code will be skipped for the current item if the condition is true\n",
    "        \n",
    "If `condition` is true, the `continue` is executed, and `item` right away takes the next available value without executing the rest of the code."
   ]
  },
  {
   "cell_type": "code",
   "execution_count": 2,
   "metadata": {},
   "outputs": [
    {
     "name": "stdout",
     "output_type": "stream",
     "text": [
      "Number 1 is odd\n",
      "Number 3 is odd\n",
      "Number 5 is odd\n",
      "Number 7 is odd\n",
      "Number 9 is odd\n",
      "Number 11 is odd\n"
     ]
    }
   ],
   "source": [
    "numbers = [1, 3, 5, 7, 8, 9, 10, 11]\n",
    "\n",
    "for number in numbers:\n",
    "    if number % 2 == 0:\n",
    "        continue\n",
    "    print(\"Number\", number, \"is odd\")"
   ]
  },
  {
   "cell_type": "code",
   "execution_count": null,
   "metadata": {},
   "outputs": [],
   "source": [
    "numbers = [1, 3, 5, 7, 8, 9, 10, 11]\n",
    "\n"
   ]
  },
  {
   "cell_type": "code",
   "execution_count": null,
   "metadata": {},
   "outputs": [],
   "source": [
    "numbers = [1, 3, 4, 5, 7, 8, 9, 11]\n",
    "\n"
   ]
  },
  {
   "cell_type": "markdown",
   "metadata": {},
   "source": [
    "**Question.** Is the difference between `break` and `continue` clear? If not, compare the different ways the code above behaves if you switch one for the other very carefully.\n",
    "\n",
    "**Practice.** The code below asks user for a word. For every consonant in this word, print its index in the alphabet."
   ]
  },
  {
   "cell_type": "code",
   "execution_count": 3,
   "metadata": {},
   "outputs": [
    {
     "name": "stdout",
     "output_type": "stream",
     "text": [
      "Word: word\n",
      "The consonant is w and its index is 22\n",
      "The consonant is r and its index is 17\n",
      "The consonant is d and its index is 3\n"
     ]
    }
   ],
   "source": [
    "alphabet = \"abcdefghijklmnopqrstuvwxyz\"\n",
    "consonants = \"bcdfghjklmnpqrstvwxz\"\n",
    "\n",
    "word = input(\"Word: \")\n",
    "for s in word:\n",
    "    if s in consonants:\n",
    "        index = alphabet.find(s)\n",
    "        print(\"The consonant is\", s, \"and its index is\", index)"
   ]
  },
  {
   "cell_type": "markdown",
   "metadata": {},
   "source": [
    "Rewrite the code above using the `continue` statement. We want to skip the rest of the code within the loop if `s` is not a consonant!"
   ]
  },
  {
   "cell_type": "code",
   "execution_count": 7,
   "metadata": {},
   "outputs": [
    {
     "name": "stdout",
     "output_type": "stream",
     "text": [
      "Word: alphabet\n",
      "The consonant is l and itas index is 11\n",
      "The consonant is p and itas index is 15\n",
      "The consonant is h and itas index is 7\n",
      "The consonant is b and itas index is 1\n",
      "The consonant is t and itas index is 19\n"
     ]
    }
   ],
   "source": [
    "word = input(\"Word: \")\n",
    "for s in word:\n",
    "    if s not in consonants:\n",
    "        continue\n",
    "    else:\n",
    "        print(\"The consonant is\", s, \"and itas index is\", alphabet.find(s))"
   ]
  },
  {
   "cell_type": "markdown",
   "metadata": {},
   "source": [
    "The code that uses `continue` statement in the beginning of the code block is easy to read and understand: it works as a \"pre-condition\" while helping us to avoid excessive indentation."
   ]
  },
  {
   "cell_type": "markdown",
   "metadata": {},
   "source": [
    "## `while` loops\n",
    "\n",
    "While `for` loops allow us to iterate over a container and access its values one-by-one, `while` loops help us to keep executing some code block until a certain condition is true.\n",
    "\n",
    "    while condition:\n",
    "        # code that will be executed while condition is true\n",
    "        \n",
    "The code below prints numbers from 0 to $10$."
   ]
  },
  {
   "cell_type": "code",
   "execution_count": 21,
   "metadata": {},
   "outputs": [
    {
     "name": "stdout",
     "output_type": "stream",
     "text": [
      "0 1 2 3 4 5 6 7 8 9 10 "
     ]
    }
   ],
   "source": [
    "number = 0\n",
    "while number <= 10:\n",
    "    print(number, end=\" \")\n",
    "    number += 1"
   ]
  },
  {
   "cell_type": "code",
   "execution_count": 1,
   "metadata": {},
   "outputs": [],
   "source": [
    "fruits = [\"lemon\",\"melon\",\"strawberry\"]"
   ]
  },
  {
   "cell_type": "code",
   "execution_count": 4,
   "metadata": {},
   "outputs": [
    {
     "name": "stdout",
     "output_type": "stream",
     "text": [
      "What's your fav fruit? potato\n"
     ]
    }
   ],
   "source": [
    "fruit = input(\"What's your fav fruit? \")\n",
    "\n",
    "while fruit in fruits:\n",
    "    print(\"That's a bad fruit!\")\n",
    "    if fruit == \"potato\":\n",
    "        print(\"That is not a fruit!\")\n",
    "        break\n",
    "\n",
    "# uhhh very messy conditions"
   ]
  },
  {
   "cell_type": "markdown",
   "metadata": {},
   "source": [
    "**Warning:** if you are writing a code that includes a `while` loop, _always_ make sure that it will eventually finish. I.e. Will the condition you are using ever become false? If NOT, it is wrong! You never want yur code to execute infinitely!\n",
    "\n",
    "**Question:** what is wrong with the following code?\n",
    "\n",
    "    number = 0\n",
    "    while number <= 10:\n",
    "        print(number)\n",
    "        \n",
    "Consider now another example: we can write a code that asks a user to provide a unique words. We will stop asking the user for the words as soon as they repeated themselves."
   ]
  },
  {
   "cell_type": "code",
   "execution_count": 1,
   "metadata": {},
   "outputs": [
    {
     "name": "stdout",
     "output_type": "stream",
     "text": [
      "Give me a unique word: hello\n",
      "Give me a unique word: i\n",
      "Give me a unique word: am\n",
      "Give me a unique word: under\n",
      "Give me a unique word: de\n",
      "Give me a unique word: water\n",
      "Give me a unique word: hello\n",
      "You are repeating yourself\n"
     ]
    }
   ],
   "source": [
    "words = []\n",
    "new_word = input(\"Give me a unique word: \")\n",
    "\n",
    "while new_word not in words:\n",
    "    words.append(new_word)\n",
    "\n",
    "    new_word = input(\"Give me a unique word: \")\n",
    "    \n",
    "print(\"You are repeating yourself\")"
   ]
  },
  {
   "cell_type": "markdown",
   "metadata": {},
   "source": [
    "**Question 1.** What is wrong with this code?\n",
    "\n",
    "    words = []\n",
    "    new_word = input(\"Give me a unique word: \")\n",
    "    while new_word not in words:\n",
    "        words.append(new_word)\n",
    "        user_input = input(\"Give me a unique word: \")\n",
    "    print(\"You are repeating yourself!\")\n",
    "    \n",
    "**Question 2.** What is wrong with this code?\n",
    "\n",
    "    words = []\n",
    "    new_word = input(\"Give me a unique word: \")\n",
    "    words.append(new_word)\n",
    "    while new_word not in words:\n",
    "        new_word = input(\"Give me a unique word: \")\n",
    "        words.append(new_word)\n",
    "    print(\"You are repeating yourself!\")"
   ]
  },
  {
   "cell_type": "code",
   "execution_count": 4,
   "metadata": {},
   "outputs": [
    {
     "name": "stdout",
     "output_type": "stream",
     "text": [
      "Give me a unique word: hello\n",
      "Give me a unique word: there\n",
      "You are repeating yourself!\n"
     ]
    }
   ],
   "source": [
    "# does not read second input\n",
    "words = []\n",
    "new_word = input(\"Give me a unique word: \")\n",
    "while new_word not in words:\n",
    "    words.append(new_word)\n",
    "    user_input = input(\"Give me a unique word: \")\n",
    "print(\"You are repeating yourself!\")"
   ]
  },
  {
   "cell_type": "code",
   "execution_count": 2,
   "metadata": {},
   "outputs": [
    {
     "name": "stdout",
     "output_type": "stream",
     "text": [
      "Give me a unique word: hello\n",
      "You are repeating yourself!\n"
     ]
    }
   ],
   "source": [
    "# never goes inside the loop\n",
    "words = []\n",
    "new_word = input(\"Give me a unique word: \")\n",
    "words.append(new_word)\n",
    "while new_word not in words:\n",
    "    new_word = input(\"Give me a unique word: \")\n",
    "    words.append(new_word)\n",
    "print(\"You are repeating yourself!\")"
   ]
  },
  {
   "cell_type": "markdown",
   "metadata": {},
   "source": [
    "**Practice.** Using a `while` loop, write a code that will print symbols of a given word and its indices.\n",
    "\n",
    "    input:   sky\n",
    "    output:  s 0\n",
    "             k 1\n",
    "             y 2"
   ]
  },
  {
   "cell_type": "code",
   "execution_count": 5,
   "metadata": {},
   "outputs": [
    {
     "name": "stdout",
     "output_type": "stream",
     "text": [
      "Enter a word: linguistics\n",
      "l 0\n",
      "i 1\n",
      "n 2\n",
      "g 3\n",
      "u 4\n",
      "i 5\n",
      "s 6\n",
      "t 7\n",
      "i 8\n",
      "c 9\n",
      "s 10\n"
     ]
    }
   ],
   "source": [
    "word = input(\"Enter a word: \")\n",
    "index = 0\n",
    "while index < len(word):\n",
    "    print(word[index], index)\n",
    "    index += 1"
   ]
  },
  {
   "cell_type": "markdown",
   "metadata": {},
   "source": [
    "It is possible to use `break` and `continue` in `while` loops as well. The logic is exactly as it was before:\n",
    "  * `break` breaks out of the loop;\n",
    "  * `continue` will skip the rest of the code in the current state of the loop and will directly go to its beginning."
   ]
  },
  {
   "cell_type": "code",
   "execution_count": 2,
   "metadata": {},
   "outputs": [
    {
     "name": "stdout",
     "output_type": "stream",
     "text": [
      "You are repeating yourself\n"
     ]
    },
    {
     "data": {
      "text/plain": [
       "['apple', 'banana']"
      ]
     },
     "execution_count": 2,
     "metadata": {},
     "output_type": "execute_result"
    }
   ],
   "source": [
    "words = []\n",
    "\n",
    "while True:\n",
    "\tw = input(\"Give me a word: \")\n",
    "\tif w not in words:\n",
    "\t\twords.append(w)\n",
    "\telse:\n",
    "\t\tprint(\"You are repeating yourself\")\n",
    "\t\tbreak\n",
    "words\n",
    "\t"
   ]
  },
  {
   "cell_type": "code",
   "execution_count": 3,
   "metadata": {},
   "outputs": [
    {
     "name": "stdout",
     "output_type": "stream",
     "text": [
      "Consonant is l and its index is 11\n",
      "Consonant is p and its index is 15\n",
      "Consonant is h and its index is 7\n",
      "Consonant is b and its index is 1\n",
      "Consonant is t and its index is 19\n"
     ]
    }
   ],
   "source": [
    "alphabet = \"abcdefghijklmnopqrstuvwxyz\"\n",
    "consonants = \"bcdfghjklmnpqrstvwxz\"\n",
    "\n",
    "word = input(\"Word: \")\n",
    "n = 0\n",
    "\n",
    "while n < len(word):\n",
    "\tif word[n] not in consonants:\n",
    "\t\tn += 1\n",
    "\t\tcontinue\n",
    "\tindex = alphabet.find(word[n])\n",
    "\tprint(\"Consonant is\", word[n], \"and its index is\", index)\n",
    "\tn += 1"
   ]
  },
  {
   "cell_type": "markdown",
   "metadata": {},
   "source": [
    "**Question:** In the code cell above, why do we need the `n += 1` statement right before `continue`? What would happen if we put it after?\n",
    "\n",
    "**Practice:** for a given number, keep substracting $0.5$ from it and printing the result on the screen until that number reaches $0$."
   ]
  },
  {
   "cell_type": "code",
   "execution_count": 7,
   "metadata": {},
   "outputs": [
    {
     "name": "stdout",
     "output_type": "stream",
     "text": [
      "10\n",
      "9.5\n",
      "9.0\n",
      "8.5\n",
      "8.0\n",
      "7.5\n",
      "7.0\n",
      "6.5\n",
      "6.0\n",
      "5.5\n",
      "5.0\n",
      "4.5\n",
      "4.0\n",
      "3.5\n",
      "3.0\n",
      "2.5\n",
      "2.0\n",
      "1.5\n",
      "1.0\n",
      "0.5\n",
      "0.0\n"
     ]
    }
   ],
   "source": [
    "num = int(input(\"Enter a number: \"))\n",
    "print(num)\n",
    "while num > 0:\n",
    "\tnum -= 0.5\n",
    "\tprint(num)"
   ]
  },
  {
   "cell_type": "markdown",
   "metadata": {},
   "source": [
    "## A Case Study: Text generation with bigrams\n",
    "\n",
    "This is an extended practice exercise. You are given a text, and your goal is to learn **word-based bigrams** of that text. Then we want to generate new sentences based on the ones extracted from the text.\n",
    "\n",
    "_Step 1._ You are given the following text. (The only punctuation used there is `.`.)"
   ]
  },
  {
   "cell_type": "code",
   "execution_count": 7,
   "metadata": {},
   "outputs": [
    {
     "name": "stdout",
     "output_type": "stream",
     "text": [
      "You look wonderful today. The sky is blue and the sun is shining. I look at you. Look at these trees. There are birds and butterflies here.\n"
     ]
    }
   ],
   "source": [
    "text = \"You look wonderful today. The sky is blue and the sun is shining. I look at you. Look at these trees. There are birds and butterflies here.\"\n",
    "print(text)"
   ]
  },
  {
   "cell_type": "markdown",
   "metadata": {},
   "source": [
    "_Step 2._ Create a list of words and punctuations (separately!) of `text`.\n",
    "\n",
    "    Expected output: ['you', 'look', 'wonderful', 'today', '.', 'the', 'sky', 'is', 'blue', 'and', 'the', \n",
    "                      'sun', 'is', 'shining', '.', 'i', 'look', 'at', 'you', '.', 'look', 'at', 'these', \n",
    "                      'trees', '.', 'there', 'are', 'birds', 'and', 'butterflies', 'here', '.']"
   ]
  },
  {
   "cell_type": "code",
   "execution_count": 9,
   "metadata": {},
   "outputs": [
    {
     "name": "stdout",
     "output_type": "stream",
     "text": [
      "['you', 'look', 'wonderful', 'today', '.', 'the', 'sky', 'is', 'blue', 'and', 'the', 'sun', 'is', 'shining', '.', 'i', 'look', 'at', 'you', '.', 'look', 'at', 'these', 'trees', '.', 'there', 'are', 'birds', 'and', 'butterflies', 'here', '.']\n"
     ]
    }
   ],
   "source": [
    "words = []\n",
    "for word in text.split():\n",
    "\twords.append(word.strip(\".,\").lower())\n",
    "\tif word.strip().endswith((\".\", \",\")):\n",
    "\t\twords.append(word.strip()[-1])\n",
    "print(words)"
   ]
  },
  {
   "cell_type": "markdown",
   "metadata": {},
   "source": [
    "_Step 3._ Based on the previous output, create a list of bigrams of that text.\n",
    "\n",
    "    Expected output: [['you', 'look'], ['look', 'wonderful'], ['wonderful', 'today'], ['today', '.'], \n",
    "                      ['.', 'the'], ['the', 'sky'], ['sky', 'is'], ['is', 'blue'], ['blue', 'and'],\n",
    "                      ['and', 'the'], ['the', 'sun'], ['sun', 'is'], ['is', 'shining'], ['shining', '.'], \n",
    "                      ['.', 'i'], ['i', 'look'], ['look', 'at'], ['at', 'you'], ['you', '.'], ['.', 'look'], \n",
    "                      ['at', 'these'], ['these', 'trees'], ['trees', '.'], ['.', 'there'], ['there', 'are'], \n",
    "                      ['are', 'birds'], ['birds', 'and'], ['and', 'butterflies'], ['butterflies', 'here'], \n",
    "                      ['here', '.']]"
   ]
  },
  {
   "cell_type": "code",
   "execution_count": 11,
   "metadata": {},
   "outputs": [
    {
     "data": {
      "text/plain": [
       "[['you', 'look'],\n",
       " ['look', 'wonderful'],\n",
       " ['wonderful', 'today'],\n",
       " ['today', '.'],\n",
       " ['.', 'the'],\n",
       " ['the', 'sky'],\n",
       " ['sky', 'is'],\n",
       " ['is', 'blue'],\n",
       " ['blue', 'and'],\n",
       " ['and', 'the'],\n",
       " ['the', 'sun'],\n",
       " ['sun', 'is'],\n",
       " ['is', 'shining'],\n",
       " ['shining', '.'],\n",
       " ['.', 'i'],\n",
       " ['i', 'look'],\n",
       " ['look', 'at'],\n",
       " ['at', 'you'],\n",
       " ['you', '.'],\n",
       " ['.', 'look'],\n",
       " ['look', 'at'],\n",
       " ['at', 'these'],\n",
       " ['these', 'trees'],\n",
       " ['trees', '.'],\n",
       " ['.', 'there'],\n",
       " ['there', 'are'],\n",
       " ['are', 'birds'],\n",
       " ['birds', 'and'],\n",
       " ['and', 'butterflies'],\n",
       " ['butterflies', 'here'],\n",
       " ['here', '.']]"
      ]
     },
     "execution_count": 11,
     "metadata": {},
     "output_type": "execute_result"
    }
   ],
   "source": [
    "bigrams = [[words[i], words[i + 1]] for i in range(len(words) - 1)]\n",
    "bigrams"
   ]
  },
  {
   "cell_type": "markdown",
   "metadata": {},
   "source": [
    "_Step 4._ A function `choice` from the package `random` takes a non-empty list as input and returns a random item from this list as the output"
   ]
  },
  {
   "cell_type": "code",
   "execution_count": 27,
   "metadata": {},
   "outputs": [
    {
     "data": {
      "text/plain": [
       "'A'"
      ]
     },
     "execution_count": 27,
     "metadata": {},
     "output_type": "execute_result"
    }
   ],
   "source": [
    "from random import choice\n",
    "\n",
    "choice([\"A\", \"B\", \"C\"])"
   ]
  },
  {
   "cell_type": "markdown",
   "metadata": {},
   "source": [
    "Let us then pick a random bigram as the beginning of the sentence, and then keep adding words to that sentence depending on its last word. The sentence is finished if we encountered `.`."
   ]
  },
  {
   "cell_type": "code",
   "execution_count": 32,
   "metadata": {},
   "outputs": [
    {
     "name": "stdout",
     "output_type": "stream",
     "text": [
      "['you', 'look', 'wonderful', 'today', '.', 'the', 'sky', 'is', 'blue', 'and', 'the', 'sun', 'is', 'shining', '.', 'i', 'look', 'at', 'you', '.', 'look', 'at', 'these', 'trees', '.', 'there', 'are', 'birds', 'and', 'butterflies', 'here', '.']\n"
     ]
    },
    {
     "data": {
      "text/plain": [
       "'. the'"
      ]
     },
     "execution_count": 32,
     "metadata": {},
     "output_type": "execute_result"
    }
   ],
   "source": [
    "sentence = \"\"\n",
    "word = \"\"\n",
    "\n",
    "while \".\" not in word:\n",
    "\tword = choice(bigrams)\n",
    "\tprint(words)\n",
    "\tsentence += word[0] + \" \" + word[1]\n",
    "sentence"
   ]
  }
 ],
 "metadata": {
  "colab": {
   "collapsed_sections": [],
   "name": "Notebook_6.ipynb",
   "provenance": []
  },
  "kernelspec": {
   "display_name": "Python 3 (ipykernel)",
   "language": "python",
   "name": "python3"
  },
  "language_info": {
   "codemirror_mode": {
    "name": "ipython",
    "version": 3
   },
   "file_extension": ".py",
   "mimetype": "text/x-python",
   "name": "python",
   "nbconvert_exporter": "python",
   "pygments_lexer": "ipython3",
   "version": "3.9.13"
  },
  "vscode": {
   "interpreter": {
    "hash": "5e2c3a95197615e0f03f2cb0b412ba0410d0dc2251f9ffa66ba54e74ad00933f"
   }
  }
 },
 "nbformat": 4,
 "nbformat_minor": 1
}
