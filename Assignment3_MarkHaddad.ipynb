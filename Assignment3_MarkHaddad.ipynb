{
 "cells": [
  {
   "attachments": {},
   "cell_type": "markdown",
   "metadata": {},
   "source": [
    "# Homework 3\n",
    "\n",
    "**Due on Thursday, Febrary 28, 2.00pm**\n",
    "\n",
    "Your submission will be a pdf of your Jupyter notebook which would have already ran"
   ]
  },
  {
   "attachments": {},
   "cell_type": "markdown",
   "metadata": {},
   "source": [
    "**Problem 1.** Below you will find several codes that build lists. Rewrite these codes using list comprehensions.\n",
    "\n",
    "**Subproblem A.** No list comprehension:"
   ]
  },
  {
   "cell_type": "code",
   "execution_count": 1,
   "metadata": {},
   "outputs": [
    {
     "name": "stdout",
     "output_type": "stream",
     "text": [
      "['UNK', 'UNK', 'UNK', 'UNK']\n"
     ]
    }
   ],
   "source": [
    "words = [\"apple\", \"banana\", \"kiwi\", \"orange\"]\n",
    "masked_words = []\n",
    "\n",
    "for w in words:\n",
    "    masked_words.append(\"UNK\")\n",
    "    \n",
    "print(masked_words)"
   ]
  },
  {
   "cell_type": "markdown",
   "metadata": {},
   "source": [
    "List comprehension:"
   ]
  },
  {
   "cell_type": "code",
   "execution_count": 2,
   "metadata": {},
   "outputs": [
    {
     "data": {
      "text/plain": [
       "['UNK', 'UNK', 'UNK', 'UNK']"
      ]
     },
     "execution_count": 2,
     "metadata": {},
     "output_type": "execute_result"
    }
   ],
   "source": [
    "# your code\n",
    "[\"UNK\" for w in words]"
   ]
  },
  {
   "cell_type": "markdown",
   "metadata": {},
   "source": [
    "**Subproblem B.** No list comprehension:"
   ]
  },
  {
   "cell_type": "code",
   "execution_count": 3,
   "metadata": {},
   "outputs": [
    {
     "name": "stdout",
     "output_type": "stream",
     "text": [
      "['Mary', 'Noam']\n"
     ]
    }
   ],
   "source": [
    "names = [\"andrew\", \"Mary\", \"jimmy\", \"Noam\"]\n",
    "title_names = []\n",
    "\n",
    "for name in names:\n",
    "    if name.istitle():\n",
    "        title_names.append(name)\n",
    "        \n",
    "print(title_names)"
   ]
  },
  {
   "cell_type": "markdown",
   "metadata": {},
   "source": [
    "List comprehension:"
   ]
  },
  {
   "cell_type": "code",
   "execution_count": 4,
   "metadata": {},
   "outputs": [
    {
     "data": {
      "text/plain": [
       "['Mary', 'Noam']"
      ]
     },
     "execution_count": 4,
     "metadata": {},
     "output_type": "execute_result"
    }
   ],
   "source": [
    "# your code\n",
    "[name for name in names if name.istitle()]"
   ]
  },
  {
   "cell_type": "markdown",
   "metadata": {},
   "source": [
    "**Subproblem C.** No list comprehension:"
   ]
  },
  {
   "cell_type": "code",
   "execution_count": 5,
   "metadata": {},
   "outputs": [
    {
     "name": "stdout",
     "output_type": "stream",
     "text": [
      "[0, 2, 4, 6, 8, 10, 12, 14, 16, 18, 20, 22, 24, 26, 28]\n"
     ]
    }
   ],
   "source": [
    "numbers = range(30)\n",
    "even = []\n",
    "\n",
    "for i in numbers:\n",
    "    if i % 2 == 0:\n",
    "        even.append(i)\n",
    "        \n",
    "print(even)"
   ]
  },
  {
   "cell_type": "markdown",
   "metadata": {},
   "source": [
    "List comprenension:"
   ]
  },
  {
   "cell_type": "code",
   "execution_count": 6,
   "metadata": {},
   "outputs": [
    {
     "data": {
      "text/plain": [
       "[0, 2, 4, 6, 8, 10, 12, 14, 16, 18, 20, 22, 24, 26, 28]"
      ]
     },
     "execution_count": 6,
     "metadata": {},
     "output_type": "execute_result"
    }
   ],
   "source": [
    "# your code\n",
    "even = [i for i in numbers if i % 2 == 0]\n",
    "even"
   ]
  },
  {
   "attachments": {},
   "cell_type": "markdown",
   "metadata": {},
   "source": [
    "**Problem 2** You are given the following lists: `text` and `words`."
   ]
  },
  {
   "cell_type": "code",
   "execution_count": 7,
   "metadata": {},
   "outputs": [],
   "source": [
    "text = ['a', 'infinity', 'reflection', 'with', 'like', 'big', 'briefly', 'into', 'children', 'which', \n",
    "        'fruit', 'picking', 'there', 'try', 'little', 'around', 'appearances', 'appeared', 'all', \n",
    "        'crossed', 'basis', 'improbability', 'their', 'discworld', 'black', 'to', 'death', 'future', \n",
    "        'only', 'my', 'robe', 'things', 'for', 'it', 'existed', 'said', 'sake', 'sometimes', 'right', \n",
    "        'way', 'that', 'country', 'chessboard', 'quoth', 'well', 'domestic', 'skull', 'wonderful', \n",
    "        'hooded', 'or', 'empty', 'bottom', 'mirror', 'himself', 'rather', 'over', 'every', 'triangle', \n",
    "        'roses', 'border', 'orbiting', 'was', 'from', 'show', 'be', 'pecked', 'bones', 'just', 'universe', \n",
    "        'me', 'triangular', 'gets', 'worth', 'have', 'climbed', 'service', 'fluttered', 'top', 'but', \n",
    "        'grey', 'claws', 'at', 'rats', 'creep', 'own', 'pattern', 'point', 'white', 'than', 'dark', \n",
    "        'therefore', 'frame', 'this', 'not', 'the', 'could', 'mind', 'turtle', 'scrabble', 'better', \n",
    "        'industries', 'looked', 'an', 'cherubs', 'life', 'anything', 'more', 'small', 'and', 'of', 'his', \n",
    "        'on', 'skulls', 'elephants', 'in', 'thoughts', 'seen', 'nearest', 'expectantly', 'other', 'side', \n",
    "        'shape', 'total', 'so', 'world', 'look', 'sun']\n",
    "\n",
    "words = [\"shape\", \"linguistics\", \"every\", \"even\", \"world\", \"chessboard\", \"water\", \"sake\"]"
   ]
  },
  {
   "cell_type": "markdown",
   "metadata": {},
   "source": [
    "Create a dicionary where words from the list `words` are the keys, and their values are `True` or `False` depending on these words being present in `text` or not. Expected output:\n",
    "    \n",
    "    {'shape': True, 'lingusitics': False, 'every': True, 'even': False, 'world': True, \n",
    "     'chessboard': True, 'water': False, 'sake': True}"
   ]
  },
  {
   "cell_type": "code",
   "execution_count": 8,
   "metadata": {},
   "outputs": [
    {
     "data": {
      "text/plain": [
       "{'shape': True,\n",
       " 'linguistics': False,\n",
       " 'every': True,\n",
       " 'even': False,\n",
       " 'world': True,\n",
       " 'chessboard': True,\n",
       " 'water': False,\n",
       " 'sake': True}"
      ]
     },
     "execution_count": 8,
     "metadata": {},
     "output_type": "execute_result"
    }
   ],
   "source": [
    "words_present = {}\n",
    "for word in words:\n",
    "\twords_present[word] = word in text\n",
    "words_present"
   ]
  },
  {
   "attachments": {},
   "cell_type": "markdown",
   "metadata": {},
   "source": [
    "**Problem 3** You are given the following list of numbers:"
   ]
  },
  {
   "cell_type": "code",
   "execution_count": 9,
   "metadata": {},
   "outputs": [],
   "source": [
    "numbers = [1, 2, 3, 4, 5]"
   ]
  },
  {
   "attachments": {},
   "cell_type": "markdown",
   "metadata": {},
   "source": [
    "Find a way to get the following output:\n",
    "\n",
    "    [2.0, 1.5, 1.3333333333333333, 1.25]\n",
    "    \n",
    "Notice, that $2 / 1 = 2$, $3 / 2 = 1.5$, and so on. Use a list comprehension."
   ]
  },
  {
   "cell_type": "code",
   "execution_count": 10,
   "metadata": {},
   "outputs": [
    {
     "data": {
      "text/plain": [
       "[2.0, 1.5, 1.3333333333333333, 1.25]"
      ]
     },
     "execution_count": 10,
     "metadata": {},
     "output_type": "execute_result"
    }
   ],
   "source": [
    "[numbers[i+1]/numbers[i] for i in range(len(numbers) - 1)]"
   ]
  },
  {
   "attachments": {},
   "cell_type": "markdown",
   "metadata": {},
   "source": [
    "**Problem 4** Given a list of dictionaries representing people, where each dictionary contains the person's name, age, and gender, create a dictionary that maps each gender to a list of tuples representing pairs of people who are the same age.\n",
    "\n",
    "Here's an example input list:"
   ]
  },
  {
   "cell_type": "code",
   "execution_count": 18,
   "metadata": {},
   "outputs": [],
   "source": [
    "people = [    {'name': 'Alice', 'age': 30, 'gender': 'female'}, \n",
    "{'name': 'Bob', 'age': 25, 'gender': 'male'}, \n",
    "{'name': 'Charlie', 'age': 30, 'gender': 'male'}, \n",
    "{'name': 'David', 'age': 25, 'gender': 'male'}, \n",
    "{'name': 'Eve', 'age': 30, 'gender': 'female'}]"
   ]
  },
  {
   "attachments": {},
   "cell_type": "markdown",
   "metadata": {},
   "source": [
    "The output dictionary should look like this:"
   ]
  },
  {
   "cell_type": "code",
   "execution_count": 12,
   "metadata": {},
   "outputs": [
    {
     "data": {
      "text/plain": [
       "{'female': [((30, 'Alice'), (30, 'Eve'))],\n",
       " 'male': [((25, 'Bob'), (25, 'David')),\n",
       "  ((30, 'Charlie'), (30, 'Alice')),\n",
       "  ((30, 'Charlie'), (30, 'Eve'))]}"
      ]
     },
     "execution_count": 12,
     "metadata": {},
     "output_type": "execute_result"
    }
   ],
   "source": [
    "{\n",
    "    'female': [\n",
    "        ((30, 'Alice'), (30, 'Eve'))\n",
    "    ],\n",
    "    'male': [\n",
    "        ((25, 'Bob'), (25, 'David')),\n",
    "        ((30, 'Charlie'), (30, 'Alice')),\n",
    "        ((30, 'Charlie'), (30, 'Eve'))\n",
    "    ]\n",
    "}\n"
   ]
  },
  {
   "cell_type": "code",
   "execution_count": 19,
   "metadata": {},
   "outputs": [
    {
     "name": "stdout",
     "output_type": "stream",
     "text": [
      "{'female': [((30, 'Alice'), (30, 'Eve'))], 'male': [((25, 'Bob'), (25, 'David')), ((30, 'Charlie'), (30, 'Alice')), ((30, 'Charlie'), (30, 'Eve'))]}\n"
     ]
    }
   ],
   "source": [
    "males = []\n",
    "females = []\n",
    "\n",
    "# separate into male and female\n",
    "for dictionary in people:\n",
    "\tfor key in dictionary:\n",
    "\t\tif key == 'gender':\n",
    "\t\t\tif dictionary[key] == 'male':\n",
    "\t\t\t\tmales.append((dictionary['age'], dictionary['name']))\n",
    "\t\t\tif dictionary[key] == 'female':\n",
    "\t\t\t\tfemales.append((dictionary['age'], dictionary['name']))\n",
    "\t\telse:\n",
    "\t\t\tcontinue\n",
    "\n",
    "paired_people = {\n",
    "\t'female': [], \n",
    "\t'male': []\n",
    "\t}\n",
    "\n",
    "# get unique ages\n",
    "unique_ages = set()\n",
    "for age, name in males:\n",
    "\tunique_ages.add(age)\n",
    "for age, name in females:\n",
    "\tunique_ages.add(age)\n",
    "\n",
    "# pair them up: pair same age from same gender, else pair same age from different gender\n",
    "for age in unique_ages:\n",
    "\tfor female1 in females:\n",
    "\t\tpaired = False\n",
    "\t\tfor female2 in females:\n",
    "\t\t\tif age == female1[0] and age == female2[0] and female1[1] != female2[1]:\n",
    "\t\t\t\tif (female2, female1) not in paired_people['female']:\n",
    "\t\t\t\t\tpaired_people['female'].append((female1, female2))\n",
    "\t\t\t\t\tpaired = True\n",
    "\t\t\tif (female2, female1) in paired_people['female']:\n",
    "\t\t\t\tpaired = True\n",
    "\t\tif not paired:\n",
    "\t\t\tfor male in males:\n",
    "\t\t\t\tif age == female1[0] and age == male[0] and female1[1] != male[1]:\n",
    "\t\t\t\t\tif (female1, male) not in paired_people['female']:\n",
    "\t\t\t\t\t\tpaired_people['female'].append((female1, male))\n",
    "\tfor male1 in males:\n",
    "\t\tpaired = False\n",
    "\t\tfor male2 in males:\n",
    "\t\t\tif age == male1[0] and age == male2[0] and male1[1] != male2[1]:\n",
    "\t\t\t\tif (male2, male1) not in paired_people['male']:\n",
    "\t\t\t\t\tpaired_people['male'].append((male1, male2))\n",
    "\t\t\t\t\tpaired = True\n",
    "\t\t\tif (male2, male1) in paired_people['male']:\n",
    "\t\t\t\tpaired = True\n",
    "\t\tif not paired:\n",
    "\t\t\tfor female in females:\n",
    "\t\t\t\tif age == male1[0] and age == female[0] and male1[1] != female[1]:\n",
    "\t\t\t\t\tif (male1, female) not in paired_people['male']:\n",
    "\t\t\t\t\t\tpaired_people['male'].append((male1, female))\n",
    "\t\t\n",
    "print(paired_people)"
   ]
  }
 ],
 "metadata": {
  "kernelspec": {
   "display_name": "base",
   "language": "python",
   "name": "python3"
  },
  "language_info": {
   "codemirror_mode": {
    "name": "ipython",
    "version": 3
   },
   "file_extension": ".py",
   "mimetype": "text/x-python",
   "name": "python",
   "nbconvert_exporter": "python",
   "pygments_lexer": "ipython3",
   "version": "3.9.13"
  },
  "vscode": {
   "interpreter": {
    "hash": "5e2c3a95197615e0f03f2cb0b412ba0410d0dc2251f9ffa66ba54e74ad00933f"
   }
  }
 },
 "nbformat": 4,
 "nbformat_minor": 2
}
